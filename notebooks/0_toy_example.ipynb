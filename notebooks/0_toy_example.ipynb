{
 "cells": [
  {
   "cell_type": "code",
   "execution_count": 1,
   "metadata": {},
   "outputs": [],
   "source": [
    "__author__ = \"Lisette Espin\"\n",
    "__copyright__ = \"Copyright 2019, GESIS\"\n",
    "__credits__ = [\"Lisette Espin-Noboa\", \n",
    "               \"Fariba Karimi\",                \n",
    "               \"Claudia Wagner\",\n",
    "               \"Markus Strohmaier\"]\n",
    "__license__ = \"GPL\"\n",
    "__version__ = \"1.0.0\"\n",
    "__maintainer__ = \"Lisette Espin\"\n",
    "__email__ = \"lisette.espin@gesis.org\"\n",
    "__status__ = \"Development\""
   ]
  },
  {
   "cell_type": "markdown",
   "metadata": {},
   "source": [
    "<div style=\"text-align:center;\"><h1>Toy-Example (Figure 1)</h1></div>"
   ]
  },
  {
   "cell_type": "markdown",
   "metadata": {},
   "source": [
    "<h2>Dependencies</h2>"
   ]
  },
  {
   "cell_type": "code",
   "execution_count": 2,
   "metadata": {},
   "outputs": [],
   "source": [
    "import warnings\n",
    "warnings.filterwarnings(\"ignore\", message=\"numpy.dtype size changed\")\n",
    "warnings.filterwarnings(\"ignore\", message=\"numpy.ufunc size changed\")"
   ]
  },
  {
   "cell_type": "code",
   "execution_count": 3,
   "metadata": {},
   "outputs": [],
   "source": [
    "import os\n",
    "import sys\n",
    "import operator\n",
    "import matplotlib\n",
    "import numpy as np\n",
    "import networkx as nx\n",
    "import seaborn as sns\n",
    "import matplotlib as mpl\n",
    "from matplotlib import rc\n",
    "import matplotlib.pyplot as plt"
   ]
  },
  {
   "cell_type": "code",
   "execution_count": 4,
   "metadata": {},
   "outputs": [],
   "source": [
    "%load_ext autoreload\n",
    "%autoreload 2\n",
    "sys.path.append('../code')\n",
    "\n",
    "from org.gesis.libs.ranking import _rank_function_graph\n",
    "from org.gesis.libs.viz import plot_setup"
   ]
  },
  {
   "cell_type": "markdown",
   "metadata": {},
   "source": [
    "<h2>Plotting setup</h2>"
   ]
  },
  {
   "cell_type": "code",
   "execution_count": 5,
   "metadata": {},
   "outputs": [],
   "source": [
    "font = {'family' : 'normal',\n",
    "        'weight' : 'normal', #bold\n",
    "        'size'   : 15}\n",
    "\n",
    "matplotlib.rc('font', **font)\n",
    "colors = {'min':'#ec8b67', 'maj':'#6aa8cb'}"
   ]
  },
  {
   "cell_type": "code",
   "execution_count": 6,
   "metadata": {},
   "outputs": [],
   "source": [
    "PLOTS = '../plots/'      # Folder to store plots\n",
    "plot_setup(latex=True)   # Latex environment\n",
    "node_size = 80           # size of nodes (viz)\n",
    "arrow_size = 10          # size of edge arrow (viz)\n",
    "lw = 1.5                 # line-width (ranking) (viz)\n"
   ]
  },
  {
   "cell_type": "code",
   "execution_count": 7,
   "metadata": {},
   "outputs": [],
   "source": [
    "### Main figure\n",
    "fig, axes = plt.subplots(2,2,figsize=(4,4),sharex=True,sharey=True)"
   ]
  },
  {
   "cell_type": "markdown",
   "metadata": {},
   "source": [
    "<h2>Example 1</h2>\n",
    "<h3>maj --> min</h3>"
   ]
  },
  {
   "cell_type": "code",
   "execution_count": 8,
   "metadata": {
    "scrolled": false
   },
   "outputs": [
    {
     "data": {
      "text/plain": [
       "(-1.1005705252144031,\n",
       " 1.1996017241153956,\n",
       " -1.1796627230389785,\n",
       " 1.1796627400688766)"
      ]
     },
     "execution_count": 8,
     "metadata": {},
     "output_type": "execute_result"
    }
   ],
   "source": [
    "### Network 1: Only majority points to minority\n",
    "\n",
    "### Graph\n",
    "G = nx.DiGraph()\n",
    "\n",
    "G.add_edge('Mb','m1')\n",
    "G.add_edge('Mc','m1')\n",
    "G.add_edge('Md','m1')\n",
    "G.add_edge('Me','m1')\n",
    "\n",
    "G.add_edge('Ma','m2')\n",
    "G.add_edge('Mb','m2')\n",
    "G.add_edge('Mc','m2')\n",
    "G.add_edge('Md','m2')\n",
    "\n",
    "### Node attributes\n",
    "minorities = ['m1','m2']\n",
    "nx.set_node_attributes(G=G, values={n:n in minorities for n in G.nodes()}, name='minority')\n",
    "\n",
    "### Graph properties\n",
    "m = 2\n",
    "M = 5\n",
    "N = G.number_of_nodes()\n",
    "G.graph['class'] = 'minority'\n",
    "\n",
    "### Ranking\n",
    "(rank, fmt), minority_fraction = _rank_function_graph(G, metric='pagerank')\n",
    "\n",
    "### Plotting ranking\n",
    "axes[0,0].plot(rank,fmt,colors['min'],linewidth=lw)\n",
    "axes[0,0].set_ylabel('Fraction of minorities')\n",
    "axes[0,0].axhline(m/(M+m), ls='--', c='grey')\n",
    "axes[0,0].text(2,0.8,'a)', fontsize=14)\n",
    "\n",
    "### Plotting graph\n",
    "ax = plt.axes([0.30, 0.67, 0.20, 0.20])\n",
    "pos = nx.circular_layout(G)\n",
    "node_color = [colors['min'] if n in minorities else colors['maj'] for n in G.nodes()]\n",
    "nx.draw_networkx_nodes(G, pos, cmap=plt.get_cmap('jet'), node_color = node_color, node_size = node_size, ax=ax)\n",
    "nx.draw_networkx_edges(G, pos, edgelist=G.edges(), edge_color='grey', arrows=True, arrowsize=arrow_size, ax=ax)\n",
    "plt.axis('off')"
   ]
  },
  {
   "cell_type": "markdown",
   "metadata": {},
   "source": [
    "<h2>Example 2</h2>\n",
    "<h3>min --> maj</h3>"
   ]
  },
  {
   "cell_type": "code",
   "execution_count": 9,
   "metadata": {},
   "outputs": [
    {
     "data": {
      "text/plain": [
       "(-1.1005705252144031,\n",
       " 1.1996017241153956,\n",
       " -1.1796627230389785,\n",
       " 1.1796627400688766)"
      ]
     },
     "execution_count": 9,
     "metadata": {},
     "output_type": "execute_result"
    }
   ],
   "source": [
    "### Network 2: Only minority points to majority\n",
    "\n",
    "### Graph\n",
    "G = nx.DiGraph()\n",
    "\n",
    "G.add_edge('m1','Mb')\n",
    "G.add_edge('m1','Mc')\n",
    "G.add_edge('m1','Md')\n",
    "G.add_edge('m1','Me')\n",
    "\n",
    "G.add_edge('m2','Ma')\n",
    "G.add_edge('m2','Mb')\n",
    "G.add_edge('m2','Mc')\n",
    "G.add_edge('m2','Md')\n",
    "\n",
    "### Node attributes\n",
    "minorities = ['m1','m2']\n",
    "nx.set_node_attributes(G=G, values={n:n in minorities for n in G.nodes()}, name='minority')\n",
    "\n",
    "### Graph properties\n",
    "m = 2\n",
    "M = 5\n",
    "N = G.number_of_nodes()\n",
    "G.graph['class'] = 'minority'\n",
    "\n",
    "### Ranking\n",
    "(rank, fmt), minority_fraction = _rank_function_graph(G, metric='pagerank')\n",
    "\n",
    "### Plotting ranking\n",
    "axes[0,1].plot(rank,fmt,colors['min'], linewidth=lw)\n",
    "axes[0,1].axhline(m/(M+m), ls='--', c='grey')\n",
    "axes[0,1].text(2,0.8,'b)', fontsize=14)\n",
    "\n",
    "### Plotting graph\n",
    "ax = plt.axes([0.65, 0.66, 0.20, 0.20])\n",
    "node_color = [colors['min'] if n in minorities else colors['maj'] for n in G.nodes()]\n",
    "nx.draw_networkx_nodes(G, pos, cmap=plt.get_cmap('jet'), node_color = node_color, node_size = node_size, ax=ax)\n",
    "nx.draw_networkx_edges(G, pos, edgelist=G.edges(), edge_color='black', arrows=True, arrowsize=arrow_size, ax=ax)\n",
    "plt.axis('off')\n"
   ]
  },
  {
   "cell_type": "markdown",
   "metadata": {},
   "source": [
    "<h2>Example 3</h2>\n",
    "<h3>min --> maj and min --> min</h3>"
   ]
  },
  {
   "cell_type": "code",
   "execution_count": 10,
   "metadata": {
    "scrolled": true
   },
   "outputs": [
    {
     "data": {
      "text/plain": [
       "(-1.1005705252144031,\n",
       " 1.1996017241153956,\n",
       " -1.1796627230389785,\n",
       " 1.1796627400688766)"
      ]
     },
     "execution_count": 10,
     "metadata": {},
     "output_type": "execute_result"
    }
   ],
   "source": [
    "### Network 3: Minority points to both majority and minority\n",
    "\n",
    "### Graph\n",
    "G = nx.DiGraph()\n",
    "G.add_edge('m1','m2')\n",
    "G.add_edge('m2','m1')\n",
    "\n",
    "G.add_edge('m1','Mb')\n",
    "G.add_edge('m1','Mc')\n",
    "G.add_edge('m1','Md')\n",
    "G.add_edge('m1','Me')\n",
    "\n",
    "G.add_edge('m2','Ma')\n",
    "G.add_edge('m2','Mb')\n",
    "G.add_edge('m2','Mc')\n",
    "G.add_edge('m2','Md')\n",
    "\n",
    "### Node attributes\n",
    "minorities = ['m1','m2']\n",
    "nx.set_node_attributes(G=G, values={n:n in minorities for n in G.nodes()}, name='minority')\n",
    "\n",
    "### Graph properties\n",
    "m = 2\n",
    "M = 5\n",
    "N = G.number_of_nodes()\n",
    "G.graph['class'] = 'minority'\n",
    "\n",
    "### Ranking\n",
    "(rank, fmt), minority_fraction = _rank_function_graph(G, metric='pagerank')\n",
    "\n",
    "### Plotting ranking\n",
    "axes[1,0].plot(rank,fmt,colors['min'],linewidth=lw)\n",
    "axes[1,0].set_xlabel('top-k')\n",
    "axes[1,0].set_ylabel('Fraction of minorities')\n",
    "axes[1,0].axhline(m/(M+m), ls='--', c='grey')\n",
    "axes[1,0].text(2,0.8,'c)', fontsize=14)\n",
    "\n",
    "### Plotting graph\n",
    "ax = plt.axes([0.25, 0.26, 0.20, 0.20])\n",
    "node_color = [colors['min'] if n in minorities else colors['maj'] for n in G.nodes()]\n",
    "nx.draw_networkx_nodes(G, pos, cmap=plt.get_cmap('jet'), node_color = node_color, node_size = node_size, ax=ax)\n",
    "edge_color = ['black' if e in [('m1','m2'),('m2','m1')] else 'grey' for e in G.edges()]\n",
    "nx.draw_networkx_edges(G, pos, edgelist=G.edges(), edge_color=edge_color, arrows=True, arrowsize=arrow_size, ax=ax)\n",
    "plt.axis('off')\n"
   ]
  },
  {
   "cell_type": "markdown",
   "metadata": {},
   "source": [
    "<h2>Example 4</h2>\n",
    "<h3>min --> maj and min --> min and maj --> min</h3>"
   ]
  },
  {
   "cell_type": "code",
   "execution_count": 11,
   "metadata": {},
   "outputs": [
    {
     "data": {
      "text/plain": [
       "(-1.1005705252144031,\n",
       " 1.1996017241153956,\n",
       " -1.1796627230389785,\n",
       " 1.1796627400688766)"
      ]
     },
     "execution_count": 11,
     "metadata": {},
     "output_type": "execute_result"
    }
   ],
   "source": [
    "### Network 4: Minority points to both majority and minority, but also one majority points to one minority\n",
    "\n",
    "### Graph\n",
    "G = nx.DiGraph()\n",
    "G.add_edge('m1','m2')\n",
    "G.add_edge('m2','m1')\n",
    "\n",
    "G.add_edge('m1','Mb')\n",
    "G.add_edge('m1','Mc')\n",
    "G.add_edge('m1','Md')\n",
    "G.add_edge('m1','Me')\n",
    "\n",
    "G.add_edge('m2','Ma')\n",
    "G.add_edge('m2','Mb')\n",
    "G.add_edge('m2','Mc')\n",
    "G.add_edge('m2','Md')\n",
    "\n",
    "G.add_edge('Ma','m1')\n",
    "\n",
    "### Node attributes\n",
    "minorities = ['m1','m2']\n",
    "nx.set_node_attributes(G=G, values={n:n in minorities for n in G.nodes()}, name='minority')\n",
    "\n",
    "### Graph properties\n",
    "m = 2\n",
    "M = 5\n",
    "N = G.number_of_nodes()\n",
    "G.graph['class'] = 'minority'\n",
    "\n",
    "### Ranking\n",
    "(rank, fmt), minority_fraction = _rank_function_graph(G, metric='pagerank')\n",
    "\n",
    "### Plotting ranking\n",
    "axes[1,1].plot(rank,fmt,colors['min'],linewidth=lw)\n",
    "axes[1,1].set_xlabel('top-k')\n",
    "axes[1,1].axhline(m/(M+m), ls='--', c='grey')\n",
    "axes[1,1].set_xlim((-5,110))\n",
    "axes[1,1].text(2,0.8,'d)', fontsize=14)\n",
    "\n",
    "### Plotting graph\n",
    "ax = plt.axes([0.68, 0.26, 0.20, 0.20])\n",
    "node_color = [colors['min'] if n in minorities else colors['maj'] for n in G.nodes()]\n",
    "nx.draw_networkx_nodes(G, pos, cmap=plt.get_cmap('jet'), node_color = node_color, node_size = node_size, ax=ax)\n",
    "edge_color = ['black' if e == ('Ma','m1') else 'grey' for e in G.edges()]\n",
    "nx.draw_networkx_edges(G, pos, edgelist=G.edges(), edge_color=edge_color, arrows=True, arrowsize=arrow_size, ax=ax)\n",
    "plt.axis('off')\n"
   ]
  },
  {
   "cell_type": "markdown",
   "metadata": {},
   "source": [
    "<h2>Final figure</h2>"
   ]
  },
  {
   "cell_type": "code",
   "execution_count": 12,
   "metadata": {},
   "outputs": [
    {
     "data": {
      "image/png": "[encoded data removed]",
      "text/plain": [
       "<Figure size 400x400 with 8 Axes>"
      ]
     },
     "metadata": {},
     "output_type": "display_data"
    }
   ],
   "source": [
    "plt.axis('off')\n",
    "plt.subplots_adjust(hspace=0.05, wspace=0.05)\n",
    "\n",
    "fn = os.path.join(PLOTS,'example.pdf')\n",
    "if fn is not None:\n",
    "    plt.savefig(fn, bbox_inches='tight')\n",
    "\n",
    "plt.show()\n"
   ]
  },
  {
   "cell_type": "code",
   "execution_count": null,
   "metadata": {},
   "outputs": [],
   "source": []
  }
 ],
 "metadata": {
  "kernelspec": {
   "display_name": "Python 3",
   "language": "python",
   "name": "python3"
  },
  "language_info": {
   "codemirror_mode": {
    "name": "ipython",
    "version": 3
   },
   "file_extension": ".py",
   "mimetype": "text/x-python",
   "name": "python",
   "nbconvert_exporter": "python",
   "pygments_lexer": "ipython3",
   "version": "3.5.2"
  }
 },
 "nbformat": 4,
 "nbformat_minor": 2
}
