{
 "cells": [
  {
   "cell_type": "code",
   "execution_count": 1,
   "metadata": {},
   "outputs": [],
   "source": [
    "__author__ = \"Lisette Espin\"\n",
    "__copyright__ = \"Copyright 2019, GESIS\"\n",
    "__credits__ = [\"Lisette Espin-Noboa\", \n",
    "               \"Fariba Karimi\",                \n",
    "               \"Claudia Wagner\",\n",
    "               \"Markus Strohmaier\"]\n",
    "__license__ = \"GPL\"\n",
    "__version__ = \"1.0.0\"\n",
    "__maintainer__ = \"Lisette Espin\"\n",
    "__email__ = \"lisette.espin@gesis.org\"\n",
    "__status__ = \"Development\""
   ]
  },
  {
   "cell_type": "markdown",
   "metadata": {},
   "source": [
    "<div style=\"text-align:center;\"><h1>Datasets: Real-World networks</h1></div>"
   ]
  },
  {
   "cell_type": "markdown",
   "metadata": {},
   "source": [
    "<h2>Dependencies</h2>"
   ]
  },
  {
   "cell_type": "code",
   "execution_count": 2,
   "metadata": {},
   "outputs": [],
   "source": [
    "import warnings\n",
    "warnings.simplefilter(\"ignore\")\n",
    "warnings.warn(\"deprecated\", DeprecationWarning)\n",
    "warnings.filterwarnings(\"ignore\",category=DeprecationWarning)\n",
    "warnings.filterwarnings(\"ignore\",category=RuntimeWarning)\n",
    "warnings.filterwarnings(\"ignore\", category=FutureWarning)\n",
    "\n",
    "import os\n",
    "import sys\n",
    "import powerlaw\n",
    "import pandas as pd\n",
    "import networkx as nx"
   ]
  },
  {
   "cell_type": "code",
   "execution_count": 3,
   "metadata": {},
   "outputs": [],
   "source": [
    "%load_ext autoreload\n",
    "%autoreload 2\n",
    "sys.path.append('../../code')\n",
    "\n",
    "from org.gesis.libs import io\n",
    "from org.gesis.libs import viz\n",
    "from org.gesis.libs.utils import printf\n",
    "from org.gesis.libs.network import get_network_summary\n",
    "from org.gesis.libs.network import get_nodes_metadata\n"
   ]
  },
  {
   "cell_type": "markdown",
   "metadata": {},
   "source": [
    "<h2>Constants</h2>"
   ]
  },
  {
   "cell_type": "code",
   "execution_count": 4,
   "metadata": {},
   "outputs": [],
   "source": [
    "DATASETS = ['aps','github','pokec','wikipedia'] #'twitter'\n",
    "ROOT = '../../data/'\n",
    "PLOTS = '../../plots/'\n",
    "OUTPUT = \"../../results-batch/\""
   ]
  },
  {
   "cell_type": "markdown",
   "metadata": {},
   "source": [
    "<h2>Datasets' description</h2>"
   ]
  },
  {
   "cell_type": "code",
   "execution_count": 5,
   "metadata": {},
   "outputs": [
    {
     "name": "stdout",
     "output_type": "stream",
     "text": [
      "2020-02-27 14:55:25\tstart\n"
     ]
    }
   ],
   "source": [
    "printf('start')\n",
    "fn = os.path.join(OUTPUT, 'summary_datasets.csv')"
   ]
  },
  {
   "cell_type": "code",
   "execution_count": 6,
   "metadata": {},
   "outputs": [
    {
     "name": "stdout",
     "output_type": "stream",
     "text": [
      "2020-02-27 14:55:25\tloaded\n"
     ]
    }
   ],
   "source": [
    "if os.path.exists(fn):\n",
    "    df_summary = io.read_csv(fn)\n",
    "    printf('loaded')\n",
    "else:\n",
    "    df_summary = None\n",
    "\n",
    "    for dataset in DATASETS:\n",
    "        printf('{}...'.format(dataset))\n",
    "        fn = os.path.join(ROOT, dataset, '{}_attributed_network_anon.gpickle'.format(dataset))\n",
    "        G = nx.read_gpickle(fn)\n",
    "        row = get_network_summary(G)    \n",
    "        del(G)\n",
    "\n",
    "        if df_summary is None:\n",
    "            df_summary = row.copy()\n",
    "        else:\n",
    "            df_summary = df_summary.append(row, ignore_index=True)\n",
    "\n",
    "    df_summary = df_summary.round({'EMM': 3, 'EMm': 3, 'EmM':3, 'Emm':3, \n",
    "                                   'density':5, 'fm':2})\n",
    "    printf('done')"
   ]
  },
  {
   "cell_type": "code",
   "execution_count": 7,
   "metadata": {
    "scrolled": false
   },
   "outputs": [
    {
     "data": {
      "text/html": [
       "<div>\n",
       "<style scoped>\n",
       "    .dataframe tbody tr th:only-of-type {\n",
       "        vertical-align: middle;\n",
       "    }\n",
       "\n",
       "    .dataframe tbody tr th {\n",
       "        vertical-align: top;\n",
       "    }\n",
       "\n",
       "    .dataframe thead th {\n",
       "        text-align: right;\n",
       "    }\n",
       "</style>\n",
       "<table border=\"1\" class=\"dataframe\">\n",
       "  <thead>\n",
       "    <tr style=\"text-align: right;\">\n",
       "      <th></th>\n",
       "      <th>dataset</th>\n",
       "      <th>N</th>\n",
       "      <th>cc</th>\n",
       "      <th>class</th>\n",
       "      <th>m</th>\n",
       "      <th>M</th>\n",
       "      <th>fm</th>\n",
       "      <th>E</th>\n",
       "      <th>Emm</th>\n",
       "      <th>EMM</th>\n",
       "      <th>...</th>\n",
       "      <th>EMm</th>\n",
       "      <th>density</th>\n",
       "      <th>gammaM</th>\n",
       "      <th>kminM</th>\n",
       "      <th>gammam</th>\n",
       "      <th>kminm</th>\n",
       "      <th>hMM</th>\n",
       "      <th>hmm</th>\n",
       "      <th>triadsratio</th>\n",
       "      <th>triadspdf</th>\n",
       "    </tr>\n",
       "  </thead>\n",
       "  <tbody>\n",
       "    <tr>\n",
       "      <th>0</th>\n",
       "      <td>APS</td>\n",
       "      <td>1853</td>\n",
       "      <td>173</td>\n",
       "      <td>pacs</td>\n",
       "      <td>05.20.-y</td>\n",
       "      <td>05.30.-d</td>\n",
       "      <td>0.38</td>\n",
       "      <td>3638</td>\n",
       "      <td>0.294</td>\n",
       "      <td>0.650</td>\n",
       "      <td>...</td>\n",
       "      <td>0.029</td>\n",
       "      <td>0.00106</td>\n",
       "      <td>2.88</td>\n",
       "      <td>4.0</td>\n",
       "      <td>5.02</td>\n",
       "      <td>5.0</td>\n",
       "      <td>0.95</td>\n",
       "      <td>0.93</td>\n",
       "      <td>7.741234e-07</td>\n",
       "      <td>[0.0, 0.2602935911206588, 0.0, 0.6942355889724...</td>\n",
       "    </tr>\n",
       "    <tr>\n",
       "      <th>1</th>\n",
       "      <td>Github</td>\n",
       "      <td>296612</td>\n",
       "      <td>6965</td>\n",
       "      <td>gender</td>\n",
       "      <td>female</td>\n",
       "      <td>male</td>\n",
       "      <td>0.06</td>\n",
       "      <td>1723930</td>\n",
       "      <td>0.005</td>\n",
       "      <td>0.899</td>\n",
       "      <td>...</td>\n",
       "      <td>0.051</td>\n",
       "      <td>0.00002</td>\n",
       "      <td>2.85</td>\n",
       "      <td>60.0</td>\n",
       "      <td>2.66</td>\n",
       "      <td>21.0</td>\n",
       "      <td>0.55</td>\n",
       "      <td>0.61</td>\n",
       "      <td>2.551588e-10</td>\n",
       "      <td>[0.00012062479001814398, 0.0006425589775966516...</td>\n",
       "    </tr>\n",
       "    <tr>\n",
       "      <th>2</th>\n",
       "      <td>Pokec</td>\n",
       "      <td>1632636</td>\n",
       "      <td>1</td>\n",
       "      <td>gender</td>\n",
       "      <td>1</td>\n",
       "      <td>0</td>\n",
       "      <td>0.49</td>\n",
       "      <td>30622117</td>\n",
       "      <td>0.195</td>\n",
       "      <td>0.250</td>\n",
       "      <td>...</td>\n",
       "      <td>0.248</td>\n",
       "      <td>0.00001</td>\n",
       "      <td>4.51</td>\n",
       "      <td>131.0</td>\n",
       "      <td>3.85</td>\n",
       "      <td>109.0</td>\n",
       "      <td>0.51</td>\n",
       "      <td>0.38</td>\n",
       "      <td>2.853004e-11</td>\n",
       "      <td>[0.043744452862550076, 0.0685444396945499, 0.0...</td>\n",
       "    </tr>\n",
       "    <tr>\n",
       "      <th>3</th>\n",
       "      <td>Wikipedia</td>\n",
       "      <td>3159</td>\n",
       "      <td>66</td>\n",
       "      <td>gender</td>\n",
       "      <td>female</td>\n",
       "      <td>male</td>\n",
       "      <td>0.15</td>\n",
       "      <td>14890</td>\n",
       "      <td>0.030</td>\n",
       "      <td>0.785</td>\n",
       "      <td>...</td>\n",
       "      <td>0.078</td>\n",
       "      <td>0.00149</td>\n",
       "      <td>3.65</td>\n",
       "      <td>17.0</td>\n",
       "      <td>2.44</td>\n",
       "      <td>5.0</td>\n",
       "      <td>0.67</td>\n",
       "      <td>0.58</td>\n",
       "      <td>1.416910e-06</td>\n",
       "      <td>[0.0009691331104327179, 0.0026166593981683385,...</td>\n",
       "    </tr>\n",
       "  </tbody>\n",
       "</table>\n",
       "<p>4 rows × 21 columns</p>\n",
       "</div>"
      ],
      "text/plain": [
       "     dataset        N    cc   class         m         M    fm         E  \\\n",
       "0        APS     1853   173    pacs  05.20.-y  05.30.-d  0.38      3638   \n",
       "1     Github   296612  6965  gender    female      male  0.06   1723930   \n",
       "2      Pokec  1632636     1  gender         1         0  0.49  30622117   \n",
       "3  Wikipedia     3159    66  gender    female      male  0.15     14890   \n",
       "\n",
       "     Emm    EMM  ...    EMm  density  gammaM  kminM  gammam  kminm   hMM  \\\n",
       "0  0.294  0.650  ...  0.029  0.00106    2.88    4.0    5.02    5.0  0.95   \n",
       "1  0.005  0.899  ...  0.051  0.00002    2.85   60.0    2.66   21.0  0.55   \n",
       "2  0.195  0.250  ...  0.248  0.00001    4.51  131.0    3.85  109.0  0.51   \n",
       "3  0.030  0.785  ...  0.078  0.00149    3.65   17.0    2.44    5.0  0.67   \n",
       "\n",
       "    hmm   triadsratio                                          triadspdf  \n",
       "0  0.93  7.741234e-07  [0.0, 0.2602935911206588, 0.0, 0.6942355889724...  \n",
       "1  0.61  2.551588e-10  [0.00012062479001814398, 0.0006425589775966516...  \n",
       "2  0.38  2.853004e-11  [0.043744452862550076, 0.0685444396945499, 0.0...  \n",
       "3  0.58  1.416910e-06  [0.0009691331104327179, 0.0026166593981683385,...  \n",
       "\n",
       "[4 rows x 21 columns]"
      ]
     },
     "execution_count": 7,
     "metadata": {},
     "output_type": "execute_result"
    }
   ],
   "source": [
    "df_summary.round({'hMM':2, 'hmm':2,\n",
    "                  'gammaM':2, 'gammam':2})"
   ]
  },
  {
   "cell_type": "code",
   "execution_count": 8,
   "metadata": {
    "scrolled": true
   },
   "outputs": [
    {
     "name": "stdout",
     "output_type": "stream",
     "text": [
      "2020-02-27 14:55:25\t../../results-batch/summary_datasets.csv saved!\n"
     ]
    },
    {
     "data": {
      "text/plain": [
       "True"
      ]
     },
     "execution_count": 8,
     "metadata": {},
     "output_type": "execute_result"
    }
   ],
   "source": [
    "io.save_csv(df_summary, fn)"
   ]
  },
  {
   "cell_type": "markdown",
   "metadata": {},
   "source": [
    "<h2>Latex summary</h2>"
   ]
  },
  {
   "cell_type": "code",
   "execution_count": 9,
   "metadata": {},
   "outputs": [
    {
     "data": {
      "text/html": [
       "<div>\n",
       "<style scoped>\n",
       "    .dataframe tbody tr th:only-of-type {\n",
       "        vertical-align: middle;\n",
       "    }\n",
       "\n",
       "    .dataframe tbody tr th {\n",
       "        vertical-align: top;\n",
       "    }\n",
       "\n",
       "    .dataframe thead th {\n",
       "        text-align: right;\n",
       "    }\n",
       "</style>\n",
       "<table border=\"1\" class=\"dataframe\">\n",
       "  <thead>\n",
       "    <tr style=\"text-align: right;\">\n",
       "      <th>dataset</th>\n",
       "      <th>APS</th>\n",
       "      <th>Github</th>\n",
       "      <th>Pokec</th>\n",
       "      <th>Wikipedia</th>\n",
       "    </tr>\n",
       "  </thead>\n",
       "  <tbody>\n",
       "    <tr>\n",
       "      <th>N</th>\n",
       "      <td>1853</td>\n",
       "      <td>296612</td>\n",
       "      <td>1632636</td>\n",
       "      <td>3159</td>\n",
       "    </tr>\n",
       "    <tr>\n",
       "      <th>cc</th>\n",
       "      <td>173</td>\n",
       "      <td>6965</td>\n",
       "      <td>1</td>\n",
       "      <td>66</td>\n",
       "    </tr>\n",
       "    <tr>\n",
       "      <th>class</th>\n",
       "      <td>pacs</td>\n",
       "      <td>gender</td>\n",
       "      <td>gender</td>\n",
       "      <td>gender</td>\n",
       "    </tr>\n",
       "    <tr>\n",
       "      <th>M</th>\n",
       "      <td>05.30.-d</td>\n",
       "      <td>male</td>\n",
       "      <td>0</td>\n",
       "      <td>male</td>\n",
       "    </tr>\n",
       "    <tr>\n",
       "      <th>m</th>\n",
       "      <td>05.20.-y</td>\n",
       "      <td>female</td>\n",
       "      <td>1</td>\n",
       "      <td>female</td>\n",
       "    </tr>\n",
       "    <tr>\n",
       "      <th>fm</th>\n",
       "      <td>0.38</td>\n",
       "      <td>0.06</td>\n",
       "      <td>0.49</td>\n",
       "      <td>0.15</td>\n",
       "    </tr>\n",
       "    <tr>\n",
       "      <th>E</th>\n",
       "      <td>3638</td>\n",
       "      <td>1723930</td>\n",
       "      <td>30622117</td>\n",
       "      <td>14890</td>\n",
       "    </tr>\n",
       "    <tr>\n",
       "      <th>EMM</th>\n",
       "      <td>0.65</td>\n",
       "      <td>0.899</td>\n",
       "      <td>0.25</td>\n",
       "      <td>0.785</td>\n",
       "    </tr>\n",
       "    <tr>\n",
       "      <th>EMm</th>\n",
       "      <td>0.029</td>\n",
       "      <td>0.051</td>\n",
       "      <td>0.248</td>\n",
       "      <td>0.078</td>\n",
       "    </tr>\n",
       "    <tr>\n",
       "      <th>EMm</th>\n",
       "      <td>0.029</td>\n",
       "      <td>0.051</td>\n",
       "      <td>0.248</td>\n",
       "      <td>0.078</td>\n",
       "    </tr>\n",
       "    <tr>\n",
       "      <th>Emm</th>\n",
       "      <td>0.294</td>\n",
       "      <td>0.005</td>\n",
       "      <td>0.195</td>\n",
       "      <td>0.03</td>\n",
       "    </tr>\n",
       "    <tr>\n",
       "      <th>density</th>\n",
       "      <td>0.00106</td>\n",
       "      <td>2e-05</td>\n",
       "      <td>1e-05</td>\n",
       "      <td>0.00149</td>\n",
       "    </tr>\n",
       "  </tbody>\n",
       "</table>\n",
       "</div>"
      ],
      "text/plain": [
       "dataset       APS   Github     Pokec Wikipedia\n",
       "N            1853   296612   1632636      3159\n",
       "cc            173     6965         1        66\n",
       "class        pacs   gender    gender    gender\n",
       "M        05.30.-d     male         0      male\n",
       "m        05.20.-y   female         1    female\n",
       "fm           0.38     0.06      0.49      0.15\n",
       "E            3638  1723930  30622117     14890\n",
       "EMM          0.65    0.899      0.25     0.785\n",
       "EMm         0.029    0.051     0.248     0.078\n",
       "EMm         0.029    0.051     0.248     0.078\n",
       "Emm         0.294    0.005     0.195      0.03\n",
       "density   0.00106    2e-05     1e-05   0.00149"
      ]
     },
     "execution_count": 9,
     "metadata": {},
     "output_type": "execute_result"
    }
   ],
   "source": [
    "df_latex_summary = df_summary.pivot_table(columns='dataset', aggfunc=lambda x: ' '.join(str(v) for v in x) )\n",
    "columns = ['N','cc','class','M','m','fm','E','EMM','EMm','EMm','Emm','density']\n",
    "df_latex_summary = df_latex_summary.reindex(columns)\n",
    "df_latex_summary"
   ]
  },
  {
   "cell_type": "code",
   "execution_count": 10,
   "metadata": {},
   "outputs": [
    {
     "name": "stdout",
     "output_type": "stream",
     "text": [
      "../../results-batch/summary_datasets.tex saved!\n"
     ]
    }
   ],
   "source": [
    "fn = os.path.join(OUTPUT, 'summary_datasets.tex')\n",
    "df_latex_summary.to_latex(fn, float_format=lambda x: '%.5f' % x)\n",
    "print('{} saved!'.format(fn))"
   ]
  },
  {
   "cell_type": "markdown",
   "metadata": {},
   "source": [
    "<h2>Node attributes</h2>"
   ]
  },
  {
   "cell_type": "code",
   "execution_count": 11,
   "metadata": {
    "scrolled": true
   },
   "outputs": [
    {
     "name": "stdout",
     "output_type": "stream",
     "text": [
      "2020-02-27 14:55:25\tinit\n",
      "2020-02-27 14:55:25\t=== aps ===\n",
      "2020-02-27 14:55:25\tloaded!\n",
      "2020-02-27 14:55:25\t=== github ===\n",
      "2020-02-27 14:55:26\tloaded!\n",
      "2020-02-27 14:55:26\t=== pokec ===\n",
      "2020-02-27 14:55:27\tloaded!\n",
      "2020-02-27 14:55:27\t=== wikipedia ===\n",
      "2020-02-27 14:55:27\tloaded!\n"
     ]
    }
   ],
   "source": [
    "printf('init')\n",
    "df_metadata = None\n",
    "for dataset in DATASETS:\n",
    "    printf('=== {} ==='.format(dataset))\n",
    "    fn = os.path.join(ROOT, dataset, 'nodes_metadata.csv')\n",
    "    \n",
    "    if os.path.exists(fn):\n",
    "        df = io.read_csv(fn)\n",
    "        printf('loaded!')\n",
    "    else:\n",
    "        fng = os.path.join(ROOT, dataset, '{}_attributed_network_anon.gpickle'.format(dataset))\n",
    "        G = nx.read_gpickle(fng)\n",
    "        printf('computing...')\n",
    "        \n",
    "        df = get_nodes_metadata(G, num_cores=10)    \n",
    "        df.loc[:,'dataset'] = dataset\n",
    "        del(G)\n",
    "\n",
    "        io.save_csv(df, fn)        \n",
    "\n",
    "    ### df_metadata from all datasets (append)\n",
    "    if df_metadata is None:\n",
    "        df_metadata = df.copy()\n",
    "    else:\n",
    "        df_metadata = df_metadata.append(df, ignore_index=True)\n",
    "    \n",
    "    del(df)    "
   ]
  },
  {
   "cell_type": "code",
   "execution_count": 12,
   "metadata": {},
   "outputs": [
    {
     "data": {
      "text/html": [
       "<div>\n",
       "<style scoped>\n",
       "    .dataframe tbody tr th:only-of-type {\n",
       "        vertical-align: middle;\n",
       "    }\n",
       "\n",
       "    .dataframe tbody tr th {\n",
       "        vertical-align: top;\n",
       "    }\n",
       "\n",
       "    .dataframe thead th {\n",
       "        text-align: right;\n",
       "    }\n",
       "</style>\n",
       "<table border=\"1\" class=\"dataframe\">\n",
       "  <thead>\n",
       "    <tr style=\"text-align: right;\">\n",
       "      <th></th>\n",
       "      <th>node</th>\n",
       "      <th>minority</th>\n",
       "      <th>indegree</th>\n",
       "      <th>outdegree</th>\n",
       "      <th>pagerank</th>\n",
       "      <th>circle_of_trust</th>\n",
       "      <th>wtf</th>\n",
       "      <th>dataset</th>\n",
       "    </tr>\n",
       "  </thead>\n",
       "  <tbody>\n",
       "    <tr>\n",
       "      <th>0</th>\n",
       "      <td>1</td>\n",
       "      <td>0</td>\n",
       "      <td>0</td>\n",
       "      <td>2</td>\n",
       "      <td>0.000230</td>\n",
       "      <td>0.0</td>\n",
       "      <td>0.0</td>\n",
       "      <td>aps</td>\n",
       "    </tr>\n",
       "    <tr>\n",
       "      <th>1</th>\n",
       "      <td>2</td>\n",
       "      <td>0</td>\n",
       "      <td>11</td>\n",
       "      <td>2</td>\n",
       "      <td>0.001268</td>\n",
       "      <td>14.0</td>\n",
       "      <td>17.0</td>\n",
       "      <td>aps</td>\n",
       "    </tr>\n",
       "    <tr>\n",
       "      <th>2</th>\n",
       "      <td>3</td>\n",
       "      <td>1</td>\n",
       "      <td>2</td>\n",
       "      <td>0</td>\n",
       "      <td>0.001534</td>\n",
       "      <td>10.0</td>\n",
       "      <td>0.0</td>\n",
       "      <td>aps</td>\n",
       "    </tr>\n",
       "    <tr>\n",
       "      <th>3</th>\n",
       "      <td>4</td>\n",
       "      <td>1</td>\n",
       "      <td>0</td>\n",
       "      <td>2</td>\n",
       "      <td>0.000230</td>\n",
       "      <td>0.0</td>\n",
       "      <td>0.0</td>\n",
       "      <td>aps</td>\n",
       "    </tr>\n",
       "    <tr>\n",
       "      <th>4</th>\n",
       "      <td>5</td>\n",
       "      <td>0</td>\n",
       "      <td>1</td>\n",
       "      <td>0</td>\n",
       "      <td>0.000591</td>\n",
       "      <td>2.0</td>\n",
       "      <td>0.0</td>\n",
       "      <td>aps</td>\n",
       "    </tr>\n",
       "  </tbody>\n",
       "</table>\n",
       "</div>"
      ],
      "text/plain": [
       "   node  minority  indegree  outdegree  pagerank  circle_of_trust   wtf  \\\n",
       "0     1         0         0          2  0.000230              0.0   0.0   \n",
       "1     2         0        11          2  0.001268             14.0  17.0   \n",
       "2     3         1         2          0  0.001534             10.0   0.0   \n",
       "3     4         1         0          2  0.000230              0.0   0.0   \n",
       "4     5         0         1          0  0.000591              2.0   0.0   \n",
       "\n",
       "  dataset  \n",
       "0     aps  \n",
       "1     aps  \n",
       "2     aps  \n",
       "3     aps  \n",
       "4     aps  "
      ]
     },
     "execution_count": 12,
     "metadata": {},
     "output_type": "execute_result"
    }
   ],
   "source": [
    "df_metadata.head()"
   ]
  },
  {
   "cell_type": "markdown",
   "metadata": {},
   "source": [
    "<h2>Degree Distributions</h2>"
   ]
  },
  {
   "cell_type": "code",
   "execution_count": 13,
   "metadata": {},
   "outputs": [
    {
     "data": {
      "text/html": [
       "<div>\n",
       "<style scoped>\n",
       "    .dataframe tbody tr th:only-of-type {\n",
       "        vertical-align: middle;\n",
       "    }\n",
       "\n",
       "    .dataframe tbody tr th {\n",
       "        vertical-align: top;\n",
       "    }\n",
       "\n",
       "    .dataframe thead th {\n",
       "        text-align: right;\n",
       "    }\n",
       "</style>\n",
       "<table border=\"1\" class=\"dataframe\">\n",
       "  <thead>\n",
       "    <tr style=\"text-align: right;\">\n",
       "      <th></th>\n",
       "      <th>dataset</th>\n",
       "      <th>metric</th>\n",
       "      <th>minority</th>\n",
       "      <th>node</th>\n",
       "      <th>value</th>\n",
       "    </tr>\n",
       "  </thead>\n",
       "  <tbody>\n",
       "    <tr>\n",
       "      <th>0</th>\n",
       "      <td>aps</td>\n",
       "      <td>indegree</td>\n",
       "      <td>0</td>\n",
       "      <td>1</td>\n",
       "      <td>0.0</td>\n",
       "    </tr>\n",
       "    <tr>\n",
       "      <th>1</th>\n",
       "      <td>aps</td>\n",
       "      <td>indegree</td>\n",
       "      <td>0</td>\n",
       "      <td>2</td>\n",
       "      <td>11.0</td>\n",
       "    </tr>\n",
       "    <tr>\n",
       "      <th>2</th>\n",
       "      <td>aps</td>\n",
       "      <td>indegree</td>\n",
       "      <td>1</td>\n",
       "      <td>3</td>\n",
       "      <td>2.0</td>\n",
       "    </tr>\n",
       "    <tr>\n",
       "      <th>3</th>\n",
       "      <td>aps</td>\n",
       "      <td>indegree</td>\n",
       "      <td>1</td>\n",
       "      <td>4</td>\n",
       "      <td>0.0</td>\n",
       "    </tr>\n",
       "    <tr>\n",
       "      <th>4</th>\n",
       "      <td>aps</td>\n",
       "      <td>indegree</td>\n",
       "      <td>0</td>\n",
       "      <td>5</td>\n",
       "      <td>1.0</td>\n",
       "    </tr>\n",
       "  </tbody>\n",
       "</table>\n",
       "</div>"
      ],
      "text/plain": [
       "  dataset    metric  minority  node  value\n",
       "0     aps  indegree         0     1    0.0\n",
       "1     aps  indegree         0     2   11.0\n",
       "2     aps  indegree         1     3    2.0\n",
       "3     aps  indegree         1     4    0.0\n",
       "4     aps  indegree         0     5    1.0"
      ]
     },
     "execution_count": 13,
     "metadata": {},
     "output_type": "execute_result"
    }
   ],
   "source": [
    "df_metadata_pivot = None\n",
    "\n",
    "for dataset in DATASETS:\n",
    "    tmp = df_metadata.query(\"dataset==@dataset\").copy().sort_values('node')\n",
    "    \n",
    "    for metric in ['indegree','outdegree','pagerank']:\n",
    "        tmpnew = pd.DataFrame({'dataset':dataset,\n",
    "                               'node':tmp.node,\n",
    "                               'minority':tmp.minority,\n",
    "                               'metric':metric,\n",
    "                               'value':tmp[metric]\n",
    "                            })\n",
    "        if df_metadata_pivot is None:\n",
    "            df_metadata_pivot = tmpnew.copy()\n",
    "        else:\n",
    "            df_metadata_pivot = df_metadata_pivot.append(tmpnew, ignore_index=True)\n",
    "    \n",
    "    del(tmpnew)\n",
    "    del(tmp)\n",
    "    \n",
    "df_metadata_pivot.head()    "
   ]
  },
  {
   "cell_type": "code",
   "execution_count": 14,
   "metadata": {
    "scrolled": false
   },
   "outputs": [
    {
     "name": "stderr",
     "output_type": "stream",
     "text": [
      "Values less than or equal to 0 in data. Throwing out 0 or negative values\n",
      "Calculating best minimal value for power law fit\n",
      "Values less than or equal to 0 in data. Throwing out 0 or negative values\n",
      "Calculating best minimal value for power law fit\n",
      "Values less than or equal to 0 in data. Throwing out 0 or negative values\n",
      "Calculating best minimal value for power law fit\n",
      "Values less than or equal to 0 in data. Throwing out 0 or negative values\n",
      "Calculating best minimal value for power law fit\n",
      "Values less than or equal to 0 in data. Throwing out 0 or negative values\n",
      "Calculating best minimal value for power law fit\n",
      "Values less than or equal to 0 in data. Throwing out 0 or negative values\n",
      "Calculating best minimal value for power law fit\n",
      "Values less than or equal to 0 in data. Throwing out 0 or negative values\n",
      "Calculating best minimal value for power law fit\n",
      "Values less than or equal to 0 in data. Throwing out 0 or negative values\n",
      "Calculating best minimal value for power law fit\n",
      "Values less than or equal to 0 in data. Throwing out 0 or negative values\n",
      "Calculating best minimal value for power law fit\n",
      "Values less than or equal to 0 in data. Throwing out 0 or negative values\n",
      "Calculating best minimal value for power law fit\n",
      "Values less than or equal to 0 in data. Throwing out 0 or negative values\n",
      "Calculating best minimal value for power law fit\n",
      "Values less than or equal to 0 in data. Throwing out 0 or negative values\n",
      "Calculating best minimal value for power law fit\n",
      "Values less than or equal to 0 in data. Throwing out 0 or negative values\n",
      "Calculating best minimal value for power law fit\n",
      "Values less than or equal to 0 in data. Throwing out 0 or negative values\n",
      "Calculating best minimal value for power law fit\n",
      "Values less than or equal to 0 in data. Throwing out 0 or negative values\n",
      "Calculating best minimal value for power law fit\n",
      "Values less than or equal to 0 in data. Throwing out 0 or negative values\n",
      "Calculating best minimal value for power law fit\n"
     ]
    },
    {
     "name": "stdout",
     "output_type": "stream",
     "text": [
      "../../plots/distributions.pdf saved!\n"
     ]
    },
    {
     "data": {
      "image/png": "[encoded data removed]",
      "text/plain": [
       "<Figure size 864x432 with 8 Axes>"
      ]
     },
     "metadata": {},
     "output_type": "display_data"
    }
   ],
   "source": [
    "fn = os.path.join(PLOTS, 'distributions.pdf')\n",
    "viz.plot_degree_distributions_groups(df_metadata_pivot, fn)"
   ]
  },
  {
   "cell_type": "code",
   "execution_count": 15,
   "metadata": {},
   "outputs": [
    {
     "name": "stdout",
     "output_type": "stream",
     "text": [
      "2020-02-27 15:06:49\tdone\n"
     ]
    }
   ],
   "source": [
    "printf('done')"
   ]
  },
  {
   "cell_type": "code",
   "execution_count": null,
   "metadata": {},
   "outputs": [],
   "source": []
  }
 ],
 "metadata": {
  "kernelspec": {
   "display_name": "Python 3",
   "language": "python",
   "name": "python3"
  },
  "language_info": {
   "codemirror_mode": {
    "name": "ipython",
    "version": 3
   },
   "file_extension": ".py",
   "mimetype": "text/x-python",
   "name": "python",
   "nbconvert_exporter": "python",
   "pygments_lexer": "ipython3",
   "version": "3.5.2"
  }
 },
 "nbformat": 4,
 "nbformat_minor": 2
}
