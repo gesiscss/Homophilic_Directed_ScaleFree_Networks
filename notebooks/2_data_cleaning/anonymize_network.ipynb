{
 "cells": [
  {
   "cell_type": "code",
   "execution_count": 1,
   "metadata": {},
   "outputs": [],
   "source": [
    "__author__ = \"Lisette Espin\"\n",
    "__copyright__ = \"Copyright 2019, GESIS\"\n",
    "__credits__ = [\"Lisette Espin-Noboa\", \n",
    "               \"Fariba Karimi\",                \n",
    "               \"Claudia Wagner\",\n",
    "               \"Markus Strohmaier\"]\n",
    "__license__ = \"GPL\"\n",
    "__version__ = \"1.0.0\"\n",
    "__maintainer__ = \"Lisette Espin\"\n",
    "__email__ = \"lisette.espin@gesis.org\"\n",
    "__status__ = \"Development\""
   ]
  },
  {
   "cell_type": "markdown",
   "metadata": {},
   "source": [
    "<div style=\"text-align:center;\"><h1>Anonymizing Real-World networks</h1></div>"
   ]
  },
  {
   "cell_type": "markdown",
   "metadata": {},
   "source": [
    "<h2>Dependencies</h2>"
   ]
  },
  {
   "cell_type": "code",
   "execution_count": 2,
   "metadata": {},
   "outputs": [],
   "source": [
    "import os\n",
    "import sys\n",
    "import networkx as nx\n",
    "import multiprocessing\n",
    "from joblib import delayed\n",
    "from joblib import Parallel\n",
    "from collections import Counter"
   ]
  },
  {
   "cell_type": "code",
   "execution_count": 3,
   "metadata": {},
   "outputs": [],
   "source": [
    "%load_ext autoreload\n",
    "%autoreload 2\n",
    "\n",
    "sys.path.append('../../code')\n",
    "from org.gesis.libs.utils import printf"
   ]
  },
  {
   "cell_type": "markdown",
   "metadata": {},
   "source": [
    "<h2>Constants and Functions</h2>"
   ]
  },
  {
   "cell_type": "code",
   "execution_count": 4,
   "metadata": {},
   "outputs": [],
   "source": [
    "DATASETS = ['aps', 'apsgender3', 'apsgender8', 'github', 'pokec', 'wikipedia'] #'twitter'\n",
    "ROOT = '../../data/'"
   ]
  },
  {
   "cell_type": "code",
   "execution_count": 5,
   "metadata": {},
   "outputs": [],
   "source": [
    "def anon(dataset, root):\n",
    "    printf(dataset)\n",
    "    fn = os.path.join(ROOT,dataset,'{}_attributed_network.gpickle'.format(dataset))\n",
    "    fnanon = fn.replace(\".gpickle\",'_anon.gpickle')\n",
    "    \n",
    "    if os.path.exists(fnanon):\n",
    "        print(\"{} already done.\".format(dataset))\n",
    "        H = nx.read_gpickle(fnanon)\n",
    "        \n",
    "        if type(H.graph['label']) == list:\n",
    "            H.graph['label'] = H.graph['label'][0]\n",
    "            nx.write_gpickle(H, fnanon)\n",
    "            printf('{} updated!'.format(fnanon))\n",
    "            \n",
    "        print(H.graph)\n",
    "        print()\n",
    "        \n",
    "        return\n",
    "    else:\n",
    "        # converting node names to seq. numbers\n",
    "        G = nx.read_gpickle(fn)\n",
    "        G = nx.convert_node_labels_to_integers(G, first_label=1, ordering='default')     \n",
    "\n",
    "        # copy\n",
    "        H = nx.DiGraph()    \n",
    "        H.add_edges_from(G.edges()) # singletons (degree 0) are ignored.\n",
    "    \n",
    "        # setting graph metadata (infering minority label)\n",
    "        tmp = Counter([G.node[n][G.graph['class']] for n in G.nodes()])\n",
    "        print(dataset, tmp)\n",
    "        tmp = tmp.most_common()\n",
    "        H.graph['name'] = G.graph['name']\n",
    "        H.graph['class'] = G.graph['class']\n",
    "        H.graph['labels'] = [tmp[0][0],tmp[1][0]]\n",
    "        H.graph['groups'] = ['M','m']    \n",
    "        H.graph['label'] = 'minority'\n",
    "\n",
    "        # setting node attribute: m (is minority?)\n",
    "        attrs = {n:{'minority':int(G.node[n][G.graph['class']]==H.graph['labels'][1])} for n in G.nodes()}\n",
    "        nx.set_node_attributes(H, attrs)\n",
    "\n",
    "        # writing new version\n",
    "        nx.write_gpickle(H, fnanon)\n",
    "        print(H.graph)\n",
    "        n = list(H.nodes())[0]\n",
    "        printf('{}: {}, {}'.format(n, H.node[n]['minority'], G.node[n][G.graph['class']]))\n",
    "        print()\n",
    "        del(G)\n",
    "        del(H)"
   ]
  },
  {
   "cell_type": "markdown",
   "metadata": {},
   "source": [
    "<h2>Main</h2>"
   ]
  },
  {
   "cell_type": "code",
   "execution_count": 6,
   "metadata": {},
   "outputs": [
    {
     "name": "stdout",
     "output_type": "stream",
     "text": [
      "2020-03-06 02:08:04\taps\n",
      "aps already done.\n",
      "{'class': 'pacs', 'label': 'minority', 'name': 'APS', 'labels': ['05.30.-d', '05.20.-y'], 'groups': ['M', 'm']}\n",
      "\n",
      "2020-03-06 02:08:04\tapsgender3\n",
      "apsgender3 already done.\n",
      "{'class': 'gender', 'label': 'minority', 'groups': ['M', 'm'], 'labels': ['male', 'female'], 'name': 'APSgender3'}\n",
      "\n",
      "2020-03-06 02:08:04\tapsgender8\n",
      "apsgender8 already done.\n",
      "{'class': 'gender', 'label': 'minority', 'groups': ['M', 'm'], 'labels': ['male', 'female'], 'name': 'APSgender8'}\n",
      "\n",
      "2020-03-06 02:08:05\tgithub\n",
      "github already done.\n",
      "{'class': 'gender', 'label': 'minority', 'name': 'Github', 'labels': ['male', 'female'], 'groups': ['M', 'm']}\n",
      "\n",
      "2020-03-06 02:08:11\tpokec\n",
      "pokec already done.\n",
      "{'class': 'gender', 'label': 'minority', 'name': 'Pokec', 'labels': [0, 1], 'groups': ['M', 'm']}\n",
      "\n",
      "2020-03-06 02:09:32\twikipedia\n",
      "wikipedia already done.\n",
      "{'class': 'gender', 'label': 'minority', 'name': 'Wikipedia', 'labels': ['male', 'female'], 'groups': ['M', 'm']}\n",
      "\n"
     ]
    }
   ],
   "source": [
    "for dataset in DATASETS:\n",
    "    anon(dataset, ROOT)    "
   ]
  },
  {
   "cell_type": "code",
   "execution_count": null,
   "metadata": {},
   "outputs": [],
   "source": []
  }
 ],
 "metadata": {
  "kernelspec": {
   "display_name": "Python 3",
   "language": "python",
   "name": "python3"
  },
  "language_info": {
   "codemirror_mode": {
    "name": "ipython",
    "version": 3
   },
   "file_extension": ".py",
   "mimetype": "text/x-python",
   "name": "python",
   "nbconvert_exporter": "python",
   "pygments_lexer": "ipython3",
   "version": "3.5.2"
  }
 },
 "nbformat": 4,
 "nbformat_minor": 1
}
