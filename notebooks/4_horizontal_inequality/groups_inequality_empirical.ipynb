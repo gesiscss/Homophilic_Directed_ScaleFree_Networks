{
 "cells": [
  {
   "cell_type": "code",
   "execution_count": 1,
   "metadata": {},
   "outputs": [],
   "source": [
    "__author__ = \"Lisette Espin\"\n",
    "__copyright__ = \"Copyright 2019, GESIS / USC-ISI\"\n",
    "__credits__ = [\"Lisette Espin-Noboa\", \n",
    "               \"Fariba Karimi\",                \n",
    "               \"Claudia Wagner\",\n",
    "               \"Markus Strohmaier\"]\n",
    "__license__ = \"GPL\"\n",
    "__version__ = \"1.0.1\"\n",
    "__maintainer__ = \"Lisette Espin\"\n",
    "__email__ = \"lisette.espin@gesis.org\"\n",
    "__status__ = \"Development\""
   ]
  },
  {
   "cell_type": "code",
   "execution_count": 2,
   "metadata": {},
   "outputs": [],
   "source": [
    "import os\n",
    "import ast\n",
    "import operator\n",
    "import numpy as np\n",
    "import pandas as pd\n",
    "import networkx as nx\n",
    "import seaborn as sns\n",
    "import matplotlib.pyplot as plt\n",
    "from collections import defaultdict\n",
    "from joblib import Parallel, delayed"
   ]
  },
  {
   "cell_type": "code",
   "execution_count": 3,
   "metadata": {},
   "outputs": [],
   "source": [
    "%load_ext autoreload\n",
    "%autoreload 2\n",
    "\n",
    "import sys\n",
    "sys.path.append('../../code')\n",
    "\n",
    "from org.gesis.libs import io\n",
    "from org.gesis.libs import viz\n",
    "from org.gesis.libs import utils\n",
    "from org.gesis.libs import ranking\n",
    "from org.gesis.libs.utils import printf\n",
    "from org.gesis.model.graph import DirectedGraph\n",
    "from org.gesis.model.graph import get_homophily\n",
    "from org.gesis.model.DHBA import estimate_homophily_empirical"
   ]
  },
  {
   "cell_type": "markdown",
   "metadata": {},
   "source": [
    "<h1>Ranking of minorities</h1>"
   ]
  },
  {
   "cell_type": "code",
   "execution_count": 4,
   "metadata": {},
   "outputs": [],
   "source": [
    "DATASETS = ['aps', 'apsgender3', 'apsgender8', 'github', 'pokec', 'wikipedia'] #'twitter'\n",
    "ROOT = '../../data/'\n",
    "OUTPUT = \"../../results-batch/\"\n",
    "PLOTS = '../../plots/'"
   ]
  },
  {
   "cell_type": "code",
   "execution_count": 5,
   "metadata": {},
   "outputs": [],
   "source": [
    "df_summary = None                  # datasets summary properties\n",
    "df_rank_empirical = None           # fraction of minorities in top-k rank (empirical networks)"
   ]
  },
  {
   "cell_type": "markdown",
   "metadata": {},
   "source": [
    "<h2>Datasets</h2>"
   ]
  },
  {
   "cell_type": "code",
   "execution_count": 6,
   "metadata": {
    "scrolled": true
   },
   "outputs": [
    {
     "data": {
      "text/html": [
       "<div>\n",
       "<style scoped>\n",
       "    .dataframe tbody tr th:only-of-type {\n",
       "        vertical-align: middle;\n",
       "    }\n",
       "\n",
       "    .dataframe tbody tr th {\n",
       "        vertical-align: top;\n",
       "    }\n",
       "\n",
       "    .dataframe thead th {\n",
       "        text-align: right;\n",
       "    }\n",
       "</style>\n",
       "<table border=\"1\" class=\"dataframe\">\n",
       "  <thead>\n",
       "    <tr style=\"text-align: right;\">\n",
       "      <th></th>\n",
       "      <th>dataset</th>\n",
       "      <th>N</th>\n",
       "      <th>cc</th>\n",
       "      <th>class</th>\n",
       "      <th>m</th>\n",
       "      <th>M</th>\n",
       "      <th>fm</th>\n",
       "      <th>E</th>\n",
       "      <th>Emm</th>\n",
       "      <th>EMM</th>\n",
       "      <th>...</th>\n",
       "      <th>EMm</th>\n",
       "      <th>density</th>\n",
       "      <th>gammaM</th>\n",
       "      <th>kminM</th>\n",
       "      <th>gammam</th>\n",
       "      <th>kminm</th>\n",
       "      <th>hMM</th>\n",
       "      <th>hmm</th>\n",
       "      <th>triadsratio</th>\n",
       "      <th>triadspdf</th>\n",
       "    </tr>\n",
       "  </thead>\n",
       "  <tbody>\n",
       "    <tr>\n",
       "      <th>0</th>\n",
       "      <td>APS</td>\n",
       "      <td>1853</td>\n",
       "      <td>173</td>\n",
       "      <td>pacs</td>\n",
       "      <td>05.20.-y</td>\n",
       "      <td>05.30.-d</td>\n",
       "      <td>0.38</td>\n",
       "      <td>3638</td>\n",
       "      <td>0.294</td>\n",
       "      <td>0.650</td>\n",
       "      <td>...</td>\n",
       "      <td>0.029</td>\n",
       "      <td>0.00106</td>\n",
       "      <td>2.880254</td>\n",
       "      <td>4.0</td>\n",
       "      <td>5.020234</td>\n",
       "      <td>5.0</td>\n",
       "      <td>0.95</td>\n",
       "      <td>0.93</td>\n",
       "      <td>7.741234e-07</td>\n",
       "      <td>[0.0, 0.2602935911206588, 0.0, 0.6942355889724...</td>\n",
       "    </tr>\n",
       "    <tr>\n",
       "      <th>1</th>\n",
       "      <td>APSgender3</td>\n",
       "      <td>9679</td>\n",
       "      <td>174</td>\n",
       "      <td>gender</td>\n",
       "      <td>female</td>\n",
       "      <td>male</td>\n",
       "      <td>0.10</td>\n",
       "      <td>174760</td>\n",
       "      <td>0.015</td>\n",
       "      <td>0.818</td>\n",
       "      <td>...</td>\n",
       "      <td>0.085</td>\n",
       "      <td>0.00187</td>\n",
       "      <td>4.913199</td>\n",
       "      <td>105.0</td>\n",
       "      <td>1.830627</td>\n",
       "      <td>11.0</td>\n",
       "      <td>0.82</td>\n",
       "      <td>0.27</td>\n",
       "      <td>6.067675e-06</td>\n",
       "      <td>[0.0, 0.002463174282732545, 0.0, 0.74432729978...</td>\n",
       "    </tr>\n",
       "    <tr>\n",
       "      <th>2</th>\n",
       "      <td>APSgender8</td>\n",
       "      <td>10059</td>\n",
       "      <td>300</td>\n",
       "      <td>gender</td>\n",
       "      <td>female</td>\n",
       "      <td>male</td>\n",
       "      <td>0.11</td>\n",
       "      <td>183067</td>\n",
       "      <td>0.011</td>\n",
       "      <td>0.829</td>\n",
       "      <td>...</td>\n",
       "      <td>0.080</td>\n",
       "      <td>0.00181</td>\n",
       "      <td>1.855324</td>\n",
       "      <td>13.0</td>\n",
       "      <td>1.914697</td>\n",
       "      <td>11.0</td>\n",
       "      <td>0.50</td>\n",
       "      <td>0.60</td>\n",
       "      <td>2.384959e-05</td>\n",
       "      <td>[0.0, 0.0006445705130733074, 0.0, 0.7775175926...</td>\n",
       "    </tr>\n",
       "    <tr>\n",
       "      <th>3</th>\n",
       "      <td>Github</td>\n",
       "      <td>296612</td>\n",
       "      <td>6965</td>\n",
       "      <td>gender</td>\n",
       "      <td>female</td>\n",
       "      <td>male</td>\n",
       "      <td>0.06</td>\n",
       "      <td>1723930</td>\n",
       "      <td>0.005</td>\n",
       "      <td>0.899</td>\n",
       "      <td>...</td>\n",
       "      <td>0.051</td>\n",
       "      <td>0.00002</td>\n",
       "      <td>2.847932</td>\n",
       "      <td>60.0</td>\n",
       "      <td>2.661940</td>\n",
       "      <td>21.0</td>\n",
       "      <td>0.55</td>\n",
       "      <td>0.61</td>\n",
       "      <td>2.551588e-10</td>\n",
       "      <td>[0.00012062479001814398, 0.0006425589775966516...</td>\n",
       "    </tr>\n",
       "    <tr>\n",
       "      <th>4</th>\n",
       "      <td>Pokec</td>\n",
       "      <td>1632636</td>\n",
       "      <td>1</td>\n",
       "      <td>gender</td>\n",
       "      <td>1</td>\n",
       "      <td>0</td>\n",
       "      <td>0.49</td>\n",
       "      <td>30622117</td>\n",
       "      <td>0.195</td>\n",
       "      <td>0.250</td>\n",
       "      <td>...</td>\n",
       "      <td>0.248</td>\n",
       "      <td>0.00001</td>\n",
       "      <td>4.506221</td>\n",
       "      <td>131.0</td>\n",
       "      <td>3.850320</td>\n",
       "      <td>109.0</td>\n",
       "      <td>0.51</td>\n",
       "      <td>0.38</td>\n",
       "      <td>2.853004e-11</td>\n",
       "      <td>[0.043744452862550076, 0.0685444396945499, 0.0...</td>\n",
       "    </tr>\n",
       "    <tr>\n",
       "      <th>5</th>\n",
       "      <td>Wikipedia</td>\n",
       "      <td>3159</td>\n",
       "      <td>66</td>\n",
       "      <td>gender</td>\n",
       "      <td>female</td>\n",
       "      <td>male</td>\n",
       "      <td>0.15</td>\n",
       "      <td>14890</td>\n",
       "      <td>0.030</td>\n",
       "      <td>0.785</td>\n",
       "      <td>...</td>\n",
       "      <td>0.078</td>\n",
       "      <td>0.00149</td>\n",
       "      <td>3.647207</td>\n",
       "      <td>17.0</td>\n",
       "      <td>2.435874</td>\n",
       "      <td>5.0</td>\n",
       "      <td>0.67</td>\n",
       "      <td>0.58</td>\n",
       "      <td>1.416910e-06</td>\n",
       "      <td>[0.0009691331104327179, 0.0026166593981683385,...</td>\n",
       "    </tr>\n",
       "  </tbody>\n",
       "</table>\n",
       "<p>6 rows × 21 columns</p>\n",
       "</div>"
      ],
      "text/plain": [
       "      dataset        N    cc   class         m         M    fm         E  \\\n",
       "0         APS     1853   173    pacs  05.20.-y  05.30.-d  0.38      3638   \n",
       "1  APSgender3     9679   174  gender    female      male  0.10    174760   \n",
       "2  APSgender8    10059   300  gender    female      male  0.11    183067   \n",
       "3      Github   296612  6965  gender    female      male  0.06   1723930   \n",
       "4       Pokec  1632636     1  gender         1         0  0.49  30622117   \n",
       "5   Wikipedia     3159    66  gender    female      male  0.15     14890   \n",
       "\n",
       "     Emm    EMM  ...    EMm  density    gammaM  kminM    gammam  kminm   hMM  \\\n",
       "0  0.294  0.650  ...  0.029  0.00106  2.880254    4.0  5.020234    5.0  0.95   \n",
       "1  0.015  0.818  ...  0.085  0.00187  4.913199  105.0  1.830627   11.0  0.82   \n",
       "2  0.011  0.829  ...  0.080  0.00181  1.855324   13.0  1.914697   11.0  0.50   \n",
       "3  0.005  0.899  ...  0.051  0.00002  2.847932   60.0  2.661940   21.0  0.55   \n",
       "4  0.195  0.250  ...  0.248  0.00001  4.506221  131.0  3.850320  109.0  0.51   \n",
       "5  0.030  0.785  ...  0.078  0.00149  3.647207   17.0  2.435874    5.0  0.67   \n",
       "\n",
       "    hmm   triadsratio                                          triadspdf  \n",
       "0  0.93  7.741234e-07  [0.0, 0.2602935911206588, 0.0, 0.6942355889724...  \n",
       "1  0.27  6.067675e-06  [0.0, 0.002463174282732545, 0.0, 0.74432729978...  \n",
       "2  0.60  2.384959e-05  [0.0, 0.0006445705130733074, 0.0, 0.7775175926...  \n",
       "3  0.61  2.551588e-10  [0.00012062479001814398, 0.0006425589775966516...  \n",
       "4  0.38  2.853004e-11  [0.043744452862550076, 0.0685444396945499, 0.0...  \n",
       "5  0.58  1.416910e-06  [0.0009691331104327179, 0.0026166593981683385,...  \n",
       "\n",
       "[6 rows x 21 columns]"
      ]
     },
     "execution_count": 6,
     "metadata": {},
     "output_type": "execute_result"
    }
   ],
   "source": [
    "fn = os.path.join(OUTPUT, 'summary_datasets.csv')\n",
    "df_summary = io.read_csv(fn)\n",
    "df_summary"
   ]
  },
  {
   "cell_type": "markdown",
   "metadata": {},
   "source": [
    "<h2>Ranking Empirical</h2>"
   ]
  },
  {
   "cell_type": "code",
   "execution_count": 7,
   "metadata": {
    "scrolled": true
   },
   "outputs": [
    {
     "data": {
      "text/html": [
       "<div>\n",
       "<style scoped>\n",
       "    .dataframe tbody tr th:only-of-type {\n",
       "        vertical-align: middle;\n",
       "    }\n",
       "\n",
       "    .dataframe tbody tr th {\n",
       "        vertical-align: top;\n",
       "    }\n",
       "\n",
       "    .dataframe thead th {\n",
       "        text-align: right;\n",
       "    }\n",
       "</style>\n",
       "<table border=\"1\" class=\"dataframe\">\n",
       "  <thead>\n",
       "    <tr style=\"text-align: right;\">\n",
       "      <th></th>\n",
       "      <th>kind</th>\n",
       "      <th>metric</th>\n",
       "      <th>dataset</th>\n",
       "      <th>gini</th>\n",
       "      <th>mae</th>\n",
       "      <th>epoch</th>\n",
       "      <th>rank</th>\n",
       "      <th>fmt</th>\n",
       "    </tr>\n",
       "  </thead>\n",
       "  <tbody>\n",
       "    <tr>\n",
       "      <th>0</th>\n",
       "      <td>empirical</td>\n",
       "      <td>indegree</td>\n",
       "      <td>APS</td>\n",
       "      <td>0.696307</td>\n",
       "      <td>0.176939</td>\n",
       "      <td>0</td>\n",
       "      <td>5.0</td>\n",
       "      <td>0.000000</td>\n",
       "    </tr>\n",
       "    <tr>\n",
       "      <th>1</th>\n",
       "      <td>empirical</td>\n",
       "      <td>indegree</td>\n",
       "      <td>APS</td>\n",
       "      <td>0.696307</td>\n",
       "      <td>0.176939</td>\n",
       "      <td>0</td>\n",
       "      <td>10.0</td>\n",
       "      <td>0.000000</td>\n",
       "    </tr>\n",
       "    <tr>\n",
       "      <th>2</th>\n",
       "      <td>empirical</td>\n",
       "      <td>indegree</td>\n",
       "      <td>APS</td>\n",
       "      <td>0.696307</td>\n",
       "      <td>0.176939</td>\n",
       "      <td>0</td>\n",
       "      <td>20.0</td>\n",
       "      <td>0.111111</td>\n",
       "    </tr>\n",
       "    <tr>\n",
       "      <th>3</th>\n",
       "      <td>empirical</td>\n",
       "      <td>indegree</td>\n",
       "      <td>APS</td>\n",
       "      <td>0.696307</td>\n",
       "      <td>0.176939</td>\n",
       "      <td>0</td>\n",
       "      <td>30.0</td>\n",
       "      <td>0.166667</td>\n",
       "    </tr>\n",
       "    <tr>\n",
       "      <th>4</th>\n",
       "      <td>empirical</td>\n",
       "      <td>indegree</td>\n",
       "      <td>APS</td>\n",
       "      <td>0.696307</td>\n",
       "      <td>0.176939</td>\n",
       "      <td>0</td>\n",
       "      <td>40.0</td>\n",
       "      <td>0.166667</td>\n",
       "    </tr>\n",
       "  </tbody>\n",
       "</table>\n",
       "</div>"
      ],
      "text/plain": [
       "        kind    metric dataset      gini       mae  epoch  rank       fmt\n",
       "0  empirical  indegree     APS  0.696307  0.176939      0   5.0  0.000000\n",
       "1  empirical  indegree     APS  0.696307  0.176939      0  10.0  0.000000\n",
       "2  empirical  indegree     APS  0.696307  0.176939      0  20.0  0.111111\n",
       "3  empirical  indegree     APS  0.696307  0.176939      0  30.0  0.166667\n",
       "4  empirical  indegree     APS  0.696307  0.176939      0  40.0  0.166667"
      ]
     },
     "execution_count": 7,
     "metadata": {},
     "output_type": "execute_result"
    }
   ],
   "source": [
    "df_rank_empirical = ranking.rank_empirical(ROOT, df_summary.dataset.unique(), OUTPUT)\n",
    "df_rank_empirical.head()        "
   ]
  },
  {
   "cell_type": "markdown",
   "metadata": {},
   "source": [
    "<h2>Plotting Ranks</h2>"
   ]
  },
  {
   "cell_type": "code",
   "execution_count": 8,
   "metadata": {},
   "outputs": [
    {
     "data": {
      "text/html": [
       "<div>\n",
       "<style scoped>\n",
       "    .dataframe tbody tr th:only-of-type {\n",
       "        vertical-align: middle;\n",
       "    }\n",
       "\n",
       "    .dataframe tbody tr th {\n",
       "        vertical-align: top;\n",
       "    }\n",
       "\n",
       "    .dataframe thead th {\n",
       "        text-align: right;\n",
       "    }\n",
       "</style>\n",
       "<table border=\"1\" class=\"dataframe\">\n",
       "  <thead>\n",
       "    <tr style=\"text-align: right;\">\n",
       "      <th></th>\n",
       "      <th>kind</th>\n",
       "      <th>metric</th>\n",
       "      <th>dataset</th>\n",
       "      <th>gini</th>\n",
       "      <th>mae</th>\n",
       "      <th>epoch</th>\n",
       "      <th>rank</th>\n",
       "      <th>fmt</th>\n",
       "    </tr>\n",
       "  </thead>\n",
       "  <tbody>\n",
       "    <tr>\n",
       "      <th>49</th>\n",
       "      <td>empirical</td>\n",
       "      <td>wtf</td>\n",
       "      <td>APSgender3</td>\n",
       "      <td>0.870278</td>\n",
       "      <td>0.035646</td>\n",
       "      <td>0</td>\n",
       "      <td>50.0</td>\n",
       "      <td>0.062893</td>\n",
       "    </tr>\n",
       "    <tr>\n",
       "      <th>33</th>\n",
       "      <td>empirical</td>\n",
       "      <td>circle_of_trust</td>\n",
       "      <td>APSgender3</td>\n",
       "      <td>0.859541</td>\n",
       "      <td>0.008646</td>\n",
       "      <td>0</td>\n",
       "      <td>5.0</td>\n",
       "      <td>0.111111</td>\n",
       "    </tr>\n",
       "    <tr>\n",
       "      <th>49</th>\n",
       "      <td>empirical</td>\n",
       "      <td>wtf</td>\n",
       "      <td>Github</td>\n",
       "      <td>0.966548</td>\n",
       "      <td>0.011798</td>\n",
       "      <td>0</td>\n",
       "      <td>50.0</td>\n",
       "      <td>0.088481</td>\n",
       "    </tr>\n",
       "    <tr>\n",
       "      <th>40</th>\n",
       "      <td>empirical</td>\n",
       "      <td>circle_of_trust</td>\n",
       "      <td>APSgender8</td>\n",
       "      <td>0.859474</td>\n",
       "      <td>0.018495</td>\n",
       "      <td>0</td>\n",
       "      <td>70.0</td>\n",
       "      <td>0.085714</td>\n",
       "    </tr>\n",
       "    <tr>\n",
       "      <th>26</th>\n",
       "      <td>empirical</td>\n",
       "      <td>pagerank</td>\n",
       "      <td>APS</td>\n",
       "      <td>0.445682</td>\n",
       "      <td>0.026539</td>\n",
       "      <td>0</td>\n",
       "      <td>40.0</td>\n",
       "      <td>0.357143</td>\n",
       "    </tr>\n",
       "  </tbody>\n",
       "</table>\n",
       "</div>"
      ],
      "text/plain": [
       "         kind           metric     dataset      gini       mae  epoch  rank  \\\n",
       "49  empirical              wtf  APSgender3  0.870278  0.035646      0  50.0   \n",
       "33  empirical  circle_of_trust  APSgender3  0.859541  0.008646      0   5.0   \n",
       "49  empirical              wtf      Github  0.966548  0.011798      0  50.0   \n",
       "40  empirical  circle_of_trust  APSgender8  0.859474  0.018495      0  70.0   \n",
       "26  empirical         pagerank         APS  0.445682  0.026539      0  40.0   \n",
       "\n",
       "         fmt  \n",
       "49  0.062893  \n",
       "33  0.111111  \n",
       "49  0.088481  \n",
       "40  0.085714  \n",
       "26  0.357143  "
      ]
     },
     "execution_count": 8,
     "metadata": {},
     "output_type": "execute_result"
    }
   ],
   "source": [
    "df_rank = df_rank_empirical.query(\"metric in ['pagerank', 'circle_of_trust', 'wtf']\").copy()\n",
    "df_rank.sample(5)"
   ]
  },
  {
   "cell_type": "markdown",
   "metadata": {},
   "source": [
    "<p style=\"color:red\">Pokec does not have circle_of_trust and wtf ranking for empirical yet</p>"
   ]
  },
  {
   "cell_type": "code",
   "execution_count": 9,
   "metadata": {
    "scrolled": true
   },
   "outputs": [
    {
     "data": {
      "image/png": "[encoded data removed]",
      "text/plain": [
       "<Figure size 1402.12x216 with 6 Axes>"
      ]
     },
     "metadata": {},
     "output_type": "display_data"
    }
   ],
   "source": [
    "viz.plot_empirical_rankings(df_rank, df_summary, fn=None)"
   ]
  },
  {
   "cell_type": "markdown",
   "metadata": {},
   "source": [
    "<h1>Best ranking method</h1>"
   ]
  },
  {
   "cell_type": "markdown",
   "metadata": {},
   "source": [
    "<p style=\"color:blue\">The ranking curve closest to the real fraction of minorities (using mean-absolute-error)</p>"
   ]
  },
  {
   "cell_type": "code",
   "execution_count": 10,
   "metadata": {
    "scrolled": true
   },
   "outputs": [
    {
     "data": {
      "text/html": [
       "<div>\n",
       "<style scoped>\n",
       "    .dataframe tbody tr th:only-of-type {\n",
       "        vertical-align: middle;\n",
       "    }\n",
       "\n",
       "    .dataframe tbody tr th {\n",
       "        vertical-align: top;\n",
       "    }\n",
       "\n",
       "    .dataframe thead th {\n",
       "        text-align: right;\n",
       "    }\n",
       "</style>\n",
       "<table border=\"1\" class=\"dataframe\">\n",
       "  <thead>\n",
       "    <tr style=\"text-align: right;\">\n",
       "      <th></th>\n",
       "      <th>dataset</th>\n",
       "      <th>distance</th>\n",
       "      <th>metric</th>\n",
       "      <th>pvalue</th>\n",
       "    </tr>\n",
       "  </thead>\n",
       "  <tbody>\n",
       "    <tr>\n",
       "      <th>0</th>\n",
       "      <td>APS</td>\n",
       "      <td>0.026137</td>\n",
       "      <td>pagerank</td>\n",
       "      <td>NaN</td>\n",
       "    </tr>\n",
       "    <tr>\n",
       "      <th>1</th>\n",
       "      <td>APSgender3</td>\n",
       "      <td>0.005492</td>\n",
       "      <td>pagerank</td>\n",
       "      <td>NaN</td>\n",
       "    </tr>\n",
       "    <tr>\n",
       "      <th>2</th>\n",
       "      <td>APSgender8</td>\n",
       "      <td>0.007430</td>\n",
       "      <td>pagerank</td>\n",
       "      <td>NaN</td>\n",
       "    </tr>\n",
       "    <tr>\n",
       "      <th>3</th>\n",
       "      <td>Github</td>\n",
       "      <td>0.006922</td>\n",
       "      <td>pagerank</td>\n",
       "      <td>NaN</td>\n",
       "    </tr>\n",
       "    <tr>\n",
       "      <th>4</th>\n",
       "      <td>Pokec</td>\n",
       "      <td>0.027902</td>\n",
       "      <td>pagerank</td>\n",
       "      <td>NaN</td>\n",
       "    </tr>\n",
       "    <tr>\n",
       "      <th>5</th>\n",
       "      <td>Wikipedia</td>\n",
       "      <td>0.021694</td>\n",
       "      <td>pagerank</td>\n",
       "      <td>NaN</td>\n",
       "    </tr>\n",
       "  </tbody>\n",
       "</table>\n",
       "</div>"
      ],
      "text/plain": [
       "      dataset  distance    metric pvalue\n",
       "0         APS  0.026137  pagerank    NaN\n",
       "1  APSgender3  0.005492  pagerank    NaN\n",
       "2  APSgender8  0.007430  pagerank    NaN\n",
       "3      Github  0.006922  pagerank    NaN\n",
       "4       Pokec  0.027902  pagerank    NaN\n",
       "5   Wikipedia  0.021694  pagerank    NaN"
      ]
     },
     "execution_count": 10,
     "metadata": {},
     "output_type": "execute_result"
    }
   ],
   "source": [
    "df_mae = ranking.MAE_empirical(df_rank, df_summary)\n",
    "df_best = ranking.best_ranking_empirical(df_mae)\n",
    "df_best"
   ]
  },
  {
   "cell_type": "markdown",
   "metadata": {},
   "source": [
    "<h2>CDF</h2>"
   ]
  },
  {
   "cell_type": "markdown",
   "metadata": {},
   "source": [
    "<p style=\"color:blue\">Best curve: the one closest to the real minority fraction fm (vertical dotted line)</p>"
   ]
  },
  {
   "cell_type": "code",
   "execution_count": 11,
   "metadata": {
    "scrolled": false
   },
   "outputs": [
    {
     "data": {
      "image/png": "[encoded data removed]",
      "text/plain": [
       "<Figure size 1194.76x151.2 with 6 Axes>"
      ]
     },
     "metadata": {},
     "output_type": "display_data"
    }
   ],
   "source": [
    "viz.plot_cdf_ranking(df_rank, df_summary)"
   ]
  },
  {
   "cell_type": "code",
   "execution_count": null,
   "metadata": {},
   "outputs": [],
   "source": []
  }
 ],
 "metadata": {
  "kernelspec": {
   "display_name": "Python 3",
   "language": "python",
   "name": "python3"
  },
  "language_info": {
   "codemirror_mode": {
    "name": "ipython",
    "version": 3
   },
   "file_extension": ".py",
   "mimetype": "text/x-python",
   "name": "python",
   "nbconvert_exporter": "python",
   "pygments_lexer": "ipython3",
   "version": "3.5.2"
  }
 },
 "nbformat": 4,
 "nbformat_minor": 2
}
