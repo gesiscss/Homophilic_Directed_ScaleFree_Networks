{
 "cells": [
  {
   "cell_type": "code",
   "execution_count": 1,
   "metadata": {},
   "outputs": [],
   "source": [
    "%load_ext autoreload\n",
    "%autoreload 2\n",
    "\n",
    "import networkx as nx\n",
    "import os\n",
    "from joblib import Parallel, delayed\n",
    "import multiprocessing\n",
    "from collections import Counter\n",
    "from org.gesis.libs.utils import printf"
   ]
  },
  {
   "cell_type": "code",
   "execution_count": 2,
   "metadata": {},
   "outputs": [],
   "source": [
    "DATASETS = ['aps','github','pokec','wikipedia'] #'twitter'\n",
    "ROOT = '../data/'"
   ]
  },
  {
   "cell_type": "code",
   "execution_count": 3,
   "metadata": {},
   "outputs": [
    {
     "name": "stdout",
     "output_type": "stream",
     "text": [
      "2020-01-29 21:45:21\taps\n",
      "aps Counter({'05.30.-d': 1157, '05.20.-y': 696})\n",
      "{'name': 'APS', 'class': 'pacs', 'label': ['minority'], 'labels': ['05.30.-d', '05.20.-y'], 'groups': ['M', 'm']}\n",
      "0 05.30.-d\n",
      "\n",
      "2020-01-29 21:45:21\tgithub\n",
      "github Counter({'male': 293268, 'female': 18487})\n",
      "{'name': 'Github', 'class': 'gender', 'label': ['minority'], 'labels': ['male', 'female'], 'groups': ['M', 'm']}\n",
      "0 male\n",
      "\n",
      "2020-01-29 21:45:57\tpokec\n",
      "pokec Counter({0: 828304, 1: 804336})\n",
      "{'name': 'Pokec', 'class': 'gender', 'label': ['minority'], 'labels': [0, 1], 'groups': ['M', 'm']}\n",
      "0 0\n",
      "\n",
      "2020-01-29 21:55:52\twikipedia\n",
      "wikipedia Counter({'male': 2678, 'female': 481})\n",
      "{'name': 'Wikipedia', 'class': 'gender', 'label': ['minority'], 'labels': ['male', 'female'], 'groups': ['M', 'm']}\n",
      "0 male\n",
      "\n"
     ]
    }
   ],
   "source": [
    "for dataset in DATASETS:\n",
    "    printf(dataset)\n",
    "    fn = os.path.join(ROOT,dataset,'{}_attributed_network.gpickle'.format(dataset))\n",
    "    \n",
    "    # converting node names to seq. numbers\n",
    "    G = nx.read_gpickle(fn)\n",
    "    G = nx.convert_node_labels_to_integers(G, first_label=1, ordering='default')     \n",
    "    \n",
    "    # copy\n",
    "    H = nx.DiGraph()    \n",
    "    H.add_edges_from(G.edges())\n",
    "    \n",
    "    # setting graph metadata (infering minority label)\n",
    "    tmp = Counter([G.node[n][G.graph['class']] for n in G.nodes()])\n",
    "    print(dataset, tmp)\n",
    "    tmp = tmp.most_common()\n",
    "    H.graph['name'] = G.graph['name']\n",
    "    H.graph['class'] = G.graph['class']\n",
    "    H.graph['labels'] = [tmp[0][0],tmp[1][0]]\n",
    "    H.graph['groups'] = ['M','m']    \n",
    "    H.graph['label'] = 'minority'\n",
    "        \n",
    "    # setting node attribute: m (is minority?)\n",
    "    attrs = {n:{'minority':int(G.node[n][G.graph['class']]==H.graph['labels'][1])} for n in G.nodes()}\n",
    "    nx.set_node_attributes(H, attrs)\n",
    "    \n",
    "    # writing new version\n",
    "    nx.write_gpickle(H, fn.replace(\".gpickle\",'_anon.gpickle'))\n",
    "    print(H.graph)\n",
    "    print(H.node[1]['minority'], G.node[1][G.graph['class']])\n",
    "    print()\n",
    "    del(G)\n",
    "    del(H)"
   ]
  },
  {
   "cell_type": "code",
   "execution_count": null,
   "metadata": {},
   "outputs": [],
   "source": []
  }
 ],
 "metadata": {
  "kernelspec": {
   "display_name": "Python 3",
   "language": "python",
   "name": "python3"
  },
  "language_info": {
   "codemirror_mode": {
    "name": "ipython",
    "version": 3
   },
   "file_extension": ".py",
   "mimetype": "text/x-python",
   "name": "python",
   "nbconvert_exporter": "python",
   "pygments_lexer": "ipython3",
   "version": "3.5.2"
  }
 },
 "nbformat": 4,
 "nbformat_minor": 1
}
