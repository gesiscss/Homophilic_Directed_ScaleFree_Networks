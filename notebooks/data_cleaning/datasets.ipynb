{
 "cells": [
  {
   "cell_type": "code",
   "execution_count": 1,
   "metadata": {},
   "outputs": [],
   "source": [
    "%load_ext autoreload\n",
    "%autoreload 2\n",
    "\n",
    "from org.gesis.libs.network import get_network_summary\n",
    "from org.gesis.libs.network import get_nodes_metadata\n",
    "from org.gesis.libs.utils import printf\n",
    "import networkx as nx\n",
    "import pandas as pd\n",
    "import os"
   ]
  },
  {
   "cell_type": "code",
   "execution_count": 2,
   "metadata": {},
   "outputs": [],
   "source": [
    "DATASETS = ['aps','github','pokec','wikipedia'] #'twitter'\n",
    "ROOT = '../data/'\n",
    "OUTPUT = \"../results-batch/\""
   ]
  },
  {
   "cell_type": "markdown",
   "metadata": {},
   "source": [
    "<h2>Description</h2>"
   ]
  },
  {
   "cell_type": "code",
   "execution_count": 3,
   "metadata": {},
   "outputs": [
    {
     "name": "stdout",
     "output_type": "stream",
     "text": [
      "2020-01-30 16:43:25\taps...\n",
      "2020-01-30 16:43:25\tgithub...\n",
      "2020-01-30 16:48:39\tpokec...\n",
      "2020-01-30 18:26:13\twikipedia...\n",
      "2020-01-30 18:26:15\tdone\n"
     ]
    }
   ],
   "source": [
    "df_summary = None\n",
    "\n",
    "for dataset in DATASETS:\n",
    "    printf('{}...'.format(dataset))\n",
    "    fn = os.path.join(ROOT, dataset, '{}_attributed_network_anon.gpickle'.format(dataset))\n",
    "    G = nx.read_gpickle(fn)\n",
    "    row = get_network_summary(G)\n",
    "    del(G)\n",
    "    \n",
    "    if df_summary is None:\n",
    "        df_summary = row.copy()\n",
    "    else:\n",
    "        df_summary = df_summary.append(row, ignore_index=True)\n",
    "\n",
    "df_summary = df_summary.round({'EMM': 3, 'EMm': 3, 'EmM':3, 'Emm':3, \n",
    "                               'density':5, 'fm':2})\n",
    "printf('done')"
   ]
  },
  {
   "cell_type": "code",
   "execution_count": 4,
   "metadata": {
    "scrolled": false
   },
   "outputs": [
    {
     "data": {
      "text/html": [
       "<div>\n",
       "<style scoped>\n",
       "    .dataframe tbody tr th:only-of-type {\n",
       "        vertical-align: middle;\n",
       "    }\n",
       "\n",
       "    .dataframe tbody tr th {\n",
       "        vertical-align: top;\n",
       "    }\n",
       "\n",
       "    .dataframe thead th {\n",
       "        text-align: right;\n",
       "    }\n",
       "</style>\n",
       "<table border=\"1\" class=\"dataframe\">\n",
       "  <thead>\n",
       "    <tr style=\"text-align: right;\">\n",
       "      <th></th>\n",
       "      <th>dataset</th>\n",
       "      <th>N</th>\n",
       "      <th>cc</th>\n",
       "      <th>class</th>\n",
       "      <th>m</th>\n",
       "      <th>M</th>\n",
       "      <th>fm</th>\n",
       "      <th>kmin</th>\n",
       "      <th>E</th>\n",
       "      <th>Emm</th>\n",
       "      <th>EMM</th>\n",
       "      <th>EmM</th>\n",
       "      <th>EMm</th>\n",
       "      <th>density</th>\n",
       "      <th>gammaM</th>\n",
       "      <th>gammam</th>\n",
       "      <th>hMM</th>\n",
       "      <th>hmm</th>\n",
       "      <th>triadsratio</th>\n",
       "      <th>triadspdf</th>\n",
       "    </tr>\n",
       "  </thead>\n",
       "  <tbody>\n",
       "    <tr>\n",
       "      <th>0</th>\n",
       "      <td>APS</td>\n",
       "      <td>1853</td>\n",
       "      <td>173</td>\n",
       "      <td>pacs</td>\n",
       "      <td>05.20.-y</td>\n",
       "      <td>05.30.-d</td>\n",
       "      <td>0.38</td>\n",
       "      <td>1</td>\n",
       "      <td>3638</td>\n",
       "      <td>0.294</td>\n",
       "      <td>0.650</td>\n",
       "      <td>0.027</td>\n",
       "      <td>0.029</td>\n",
       "      <td>0.00106</td>\n",
       "      <td>1.71</td>\n",
       "      <td>1.78</td>\n",
       "      <td>0.93</td>\n",
       "      <td>0.95</td>\n",
       "      <td>7.741234e-07</td>\n",
       "      <td>[0.0, 0.2602935911206588, 0.0, 0.6942355889724...</td>\n",
       "    </tr>\n",
       "    <tr>\n",
       "      <th>1</th>\n",
       "      <td>Github</td>\n",
       "      <td>296612</td>\n",
       "      <td>6965</td>\n",
       "      <td>gender</td>\n",
       "      <td>female</td>\n",
       "      <td>male</td>\n",
       "      <td>0.06</td>\n",
       "      <td>1</td>\n",
       "      <td>1723930</td>\n",
       "      <td>0.005</td>\n",
       "      <td>0.899</td>\n",
       "      <td>0.046</td>\n",
       "      <td>0.051</td>\n",
       "      <td>0.00002</td>\n",
       "      <td>1.60</td>\n",
       "      <td>1.64</td>\n",
       "      <td>0.50</td>\n",
       "      <td>0.65</td>\n",
       "      <td>2.551588e-10</td>\n",
       "      <td>[0.00012062479001814398, 0.0006425589775966516...</td>\n",
       "    </tr>\n",
       "    <tr>\n",
       "      <th>2</th>\n",
       "      <td>Pokec</td>\n",
       "      <td>1632636</td>\n",
       "      <td>1</td>\n",
       "      <td>gender</td>\n",
       "      <td>1</td>\n",
       "      <td>0</td>\n",
       "      <td>0.49</td>\n",
       "      <td>1</td>\n",
       "      <td>30622117</td>\n",
       "      <td>0.195</td>\n",
       "      <td>0.250</td>\n",
       "      <td>0.307</td>\n",
       "      <td>0.248</td>\n",
       "      <td>0.00001</td>\n",
       "      <td>1.37</td>\n",
       "      <td>1.37</td>\n",
       "      <td>0.48</td>\n",
       "      <td>0.41</td>\n",
       "      <td>2.853004e-11</td>\n",
       "      <td>[0.043744452862550076, 0.0685444396945499, 0.0...</td>\n",
       "    </tr>\n",
       "    <tr>\n",
       "      <th>3</th>\n",
       "      <td>Wikipedia</td>\n",
       "      <td>3159</td>\n",
       "      <td>66</td>\n",
       "      <td>gender</td>\n",
       "      <td>female</td>\n",
       "      <td>male</td>\n",
       "      <td>0.15</td>\n",
       "      <td>1</td>\n",
       "      <td>14890</td>\n",
       "      <td>0.030</td>\n",
       "      <td>0.785</td>\n",
       "      <td>0.107</td>\n",
       "      <td>0.078</td>\n",
       "      <td>0.00149</td>\n",
       "      <td>1.52</td>\n",
       "      <td>1.53</td>\n",
       "      <td>0.62</td>\n",
       "      <td>0.63</td>\n",
       "      <td>1.416910e-06</td>\n",
       "      <td>[0.0009691331104327179, 0.0026166593981683385,...</td>\n",
       "    </tr>\n",
       "  </tbody>\n",
       "</table>\n",
       "</div>"
      ],
      "text/plain": [
       "     dataset        N    cc   class         m         M    fm  kmin         E  \\\n",
       "0        APS     1853   173    pacs  05.20.-y  05.30.-d  0.38     1      3638   \n",
       "1     Github   296612  6965  gender    female      male  0.06     1   1723930   \n",
       "2      Pokec  1632636     1  gender         1         0  0.49     1  30622117   \n",
       "3  Wikipedia     3159    66  gender    female      male  0.15     1     14890   \n",
       "\n",
       "     Emm    EMM    EmM    EMm  density  gammaM  gammam   hMM   hmm  \\\n",
       "0  0.294  0.650  0.027  0.029  0.00106    1.71    1.78  0.93  0.95   \n",
       "1  0.005  0.899  0.046  0.051  0.00002    1.60    1.64  0.50  0.65   \n",
       "2  0.195  0.250  0.307  0.248  0.00001    1.37    1.37  0.48  0.41   \n",
       "3  0.030  0.785  0.107  0.078  0.00149    1.52    1.53  0.62  0.63   \n",
       "\n",
       "    triadsratio                                          triadspdf  \n",
       "0  7.741234e-07  [0.0, 0.2602935911206588, 0.0, 0.6942355889724...  \n",
       "1  2.551588e-10  [0.00012062479001814398, 0.0006425589775966516...  \n",
       "2  2.853004e-11  [0.043744452862550076, 0.0685444396945499, 0.0...  \n",
       "3  1.416910e-06  [0.0009691331104327179, 0.0026166593981683385,...  "
      ]
     },
     "execution_count": 4,
     "metadata": {},
     "output_type": "execute_result"
    }
   ],
   "source": [
    "df_summary.round({'hMM':2, 'hmm':2,\n",
    "                  'gammaM':2, 'gammam':2})"
   ]
  },
  {
   "cell_type": "code",
   "execution_count": 5,
   "metadata": {
    "scrolled": true
   },
   "outputs": [
    {
     "name": "stdout",
     "output_type": "stream",
     "text": [
      "../results-batch/summary_datasets.csv saved!\n"
     ]
    }
   ],
   "source": [
    "fn = os.path.join(OUTPUT, 'summary_datasets.csv')\n",
    "df_summary.to_csv(fn)    \n",
    "print('{} saved!'.format(fn))"
   ]
  },
  {
   "cell_type": "code",
   "execution_count": 6,
   "metadata": {},
   "outputs": [
    {
     "data": {
      "text/html": [
       "<div>\n",
       "<style scoped>\n",
       "    .dataframe tbody tr th:only-of-type {\n",
       "        vertical-align: middle;\n",
       "    }\n",
       "\n",
       "    .dataframe tbody tr th {\n",
       "        vertical-align: top;\n",
       "    }\n",
       "\n",
       "    .dataframe thead th {\n",
       "        text-align: right;\n",
       "    }\n",
       "</style>\n",
       "<table border=\"1\" class=\"dataframe\">\n",
       "  <thead>\n",
       "    <tr style=\"text-align: right;\">\n",
       "      <th>dataset</th>\n",
       "      <th>APS</th>\n",
       "      <th>Github</th>\n",
       "      <th>Pokec</th>\n",
       "      <th>Wikipedia</th>\n",
       "    </tr>\n",
       "  </thead>\n",
       "  <tbody>\n",
       "    <tr>\n",
       "      <th>N</th>\n",
       "      <td>1853</td>\n",
       "      <td>296612</td>\n",
       "      <td>1632636</td>\n",
       "      <td>3159</td>\n",
       "    </tr>\n",
       "    <tr>\n",
       "      <th>cc</th>\n",
       "      <td>173</td>\n",
       "      <td>6965</td>\n",
       "      <td>1</td>\n",
       "      <td>66</td>\n",
       "    </tr>\n",
       "    <tr>\n",
       "      <th>class</th>\n",
       "      <td>pacs</td>\n",
       "      <td>gender</td>\n",
       "      <td>gender</td>\n",
       "      <td>gender</td>\n",
       "    </tr>\n",
       "    <tr>\n",
       "      <th>M</th>\n",
       "      <td>05.30.-d</td>\n",
       "      <td>male</td>\n",
       "      <td>0</td>\n",
       "      <td>male</td>\n",
       "    </tr>\n",
       "    <tr>\n",
       "      <th>m</th>\n",
       "      <td>05.20.-y</td>\n",
       "      <td>female</td>\n",
       "      <td>1</td>\n",
       "      <td>female</td>\n",
       "    </tr>\n",
       "    <tr>\n",
       "      <th>fm</th>\n",
       "      <td>0.38</td>\n",
       "      <td>0.06</td>\n",
       "      <td>0.49</td>\n",
       "      <td>0.15</td>\n",
       "    </tr>\n",
       "    <tr>\n",
       "      <th>E</th>\n",
       "      <td>3638</td>\n",
       "      <td>1723930</td>\n",
       "      <td>30622117</td>\n",
       "      <td>14890</td>\n",
       "    </tr>\n",
       "    <tr>\n",
       "      <th>EMM</th>\n",
       "      <td>0.65</td>\n",
       "      <td>0.899</td>\n",
       "      <td>0.25</td>\n",
       "      <td>0.785</td>\n",
       "    </tr>\n",
       "    <tr>\n",
       "      <th>EMm</th>\n",
       "      <td>0.029</td>\n",
       "      <td>0.051</td>\n",
       "      <td>0.248</td>\n",
       "      <td>0.078</td>\n",
       "    </tr>\n",
       "    <tr>\n",
       "      <th>EMm</th>\n",
       "      <td>0.029</td>\n",
       "      <td>0.051</td>\n",
       "      <td>0.248</td>\n",
       "      <td>0.078</td>\n",
       "    </tr>\n",
       "    <tr>\n",
       "      <th>Emm</th>\n",
       "      <td>0.294</td>\n",
       "      <td>0.005</td>\n",
       "      <td>0.195</td>\n",
       "      <td>0.03</td>\n",
       "    </tr>\n",
       "    <tr>\n",
       "      <th>density</th>\n",
       "      <td>0.00106</td>\n",
       "      <td>2e-05</td>\n",
       "      <td>1e-05</td>\n",
       "      <td>0.00149</td>\n",
       "    </tr>\n",
       "  </tbody>\n",
       "</table>\n",
       "</div>"
      ],
      "text/plain": [
       "dataset       APS   Github     Pokec Wikipedia\n",
       "N            1853   296612   1632636      3159\n",
       "cc            173     6965         1        66\n",
       "class        pacs   gender    gender    gender\n",
       "M        05.30.-d     male         0      male\n",
       "m        05.20.-y   female         1    female\n",
       "fm           0.38     0.06      0.49      0.15\n",
       "E            3638  1723930  30622117     14890\n",
       "EMM          0.65    0.899      0.25     0.785\n",
       "EMm         0.029    0.051     0.248     0.078\n",
       "EMm         0.029    0.051     0.248     0.078\n",
       "Emm         0.294    0.005     0.195      0.03\n",
       "density   0.00106    2e-05     1e-05   0.00149"
      ]
     },
     "execution_count": 6,
     "metadata": {},
     "output_type": "execute_result"
    }
   ],
   "source": [
    "df_latex_summary = df_summary.pivot_table(columns='dataset', aggfunc=lambda x: ' '.join(str(v) for v in x) )\n",
    "columns = ['N','cc','class','M','m','fm','E','EMM','EMm','EMm','Emm','density']\n",
    "df_latex_summary = df_latex_summary.reindex(columns)\n",
    "df_latex_summary"
   ]
  },
  {
   "cell_type": "code",
   "execution_count": 7,
   "metadata": {},
   "outputs": [
    {
     "name": "stdout",
     "output_type": "stream",
     "text": [
      "../results-batch/summary_datasets.tex saved!\n"
     ]
    }
   ],
   "source": [
    "fn = os.path.join(OUTPUT, 'summary_datasets.tex')\n",
    "df_latex_summary.to_latex(fn, float_format=lambda x: '%.5f' % x)\n",
    "print('{} saved!'.format(fn))"
   ]
  },
  {
   "cell_type": "markdown",
   "metadata": {},
   "source": [
    "<h2>Node attributes</h2>"
   ]
  },
  {
   "cell_type": "code",
   "execution_count": null,
   "metadata": {
    "scrolled": false
   },
   "outputs": [],
   "source": [
    "for dataset in DATASETS:\n",
    "    fn = os.path.join(ROOT, dataset, '{}_attributed_network_anon.gpickle'.format(dataset))\n",
    "    G = nx.read_gpickle(fn)\n",
    "    df_metadata = get_nodes_metadata(G)\n",
    "\n",
    "    fn = os.path.join(ROOT, dataset, 'nodes_metadata.csv')\n",
    "    df_metadata.to_csv(fn) \n",
    "    printf('{} saved!'.format(fn))\n",
    "    del(G)\n",
    "    del(df_metadata)\n",
    "    "
   ]
  },
  {
   "cell_type": "code",
   "execution_count": null,
   "metadata": {},
   "outputs": [],
   "source": []
  }
 ],
 "metadata": {
  "kernelspec": {
   "display_name": "Python 3",
   "language": "python",
   "name": "python3"
  },
  "language_info": {
   "codemirror_mode": {
    "name": "ipython",
    "version": 3
   },
   "file_extension": ".py",
   "mimetype": "text/x-python",
   "name": "python",
   "nbconvert_exporter": "python",
   "pygments_lexer": "ipython3",
   "version": "3.5.2"
  }
 },
 "nbformat": 4,
 "nbformat_minor": 2
}
