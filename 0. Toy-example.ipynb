{
 "cells": [
  {
   "cell_type": "code",
   "execution_count": 1,
   "metadata": {},
   "outputs": [],
   "source": [
    "__author__ = \"Lisette Espin\"\n",
    "__copyright__ = \"Copyright 2021, GESIS\"\n",
    "__credits__ = [\"Lisette Espin-Noboa\", \n",
    "               \"Fariba Karimi\",                \n",
    "               \"Claudia Wagner\",\n",
    "               \"Markus Strohmaier\"]\n",
    "__license__ = \"GPL\"\n",
    "__version__ = \"1.0.1\"\n",
    "__maintainer__ = \"Lisette Espin\"\n",
    "__email__ = \"lisette.espin@gesis.org\"\n",
    "__status__ = \"Development\""
   ]
  },
  {
   "cell_type": "markdown",
   "metadata": {},
   "source": [
    "# Toy-Example (Figure 1)"
   ]
  },
  {
   "cell_type": "code",
   "execution_count": 2,
   "metadata": {},
   "outputs": [],
   "source": [
    "import os\n",
    "import sys\n",
    "import operator\n",
    "import matplotlib\n",
    "import numpy as np\n",
    "import networkx as nx\n",
    "import seaborn as sns\n",
    "import matplotlib as mpl\n",
    "from matplotlib import rc\n",
    "import matplotlib.pyplot as plt\n",
    "from collections import Counter"
   ]
  },
  {
   "cell_type": "code",
   "execution_count": 3,
   "metadata": {},
   "outputs": [],
   "source": [
    "import warnings\n",
    "warnings.filterwarnings(\"ignore\", message=\"numpy.dtype size changed\")\n",
    "warnings.filterwarnings(\"ignore\", message=\"numpy.ufunc size changed\")\n",
    "warnings.simplefilter(action='ignore', category=FutureWarning)\n",
    "warnings.simplefilter(action='ignore', category=matplotlib.MatplotlibDeprecationWarning)"
   ]
  },
  {
   "cell_type": "code",
   "execution_count": 4,
   "metadata": {},
   "outputs": [],
   "source": [
    "%load_ext autoreload\n",
    "%autoreload 2\n",
    "\n",
    "from org.gesis.lib.rank import _gini_function_matrix_rank\n",
    "from org.gesis.lib.rank import _fm_function_matrix_rank\n",
    "from org.gesis.lib.viz import plot_setup\n",
    "from org.gesis.model.DPAH import DPAH\n",
    "from org.gesis.lib import utils\n",
    "from org.gesis.lib import graph"
   ]
  },
  {
   "cell_type": "markdown",
   "metadata": {},
   "source": [
    "## Setup"
   ]
  },
  {
   "cell_type": "code",
   "execution_count": 5,
   "metadata": {},
   "outputs": [],
   "source": [
    "font = {'family' : 'normal',\n",
    "        'weight' : 'normal', #bold\n",
    "        'size'   : 15}\n",
    "\n",
    "matplotlib.rc('font', **font)\n",
    "colors = {'min':'#ec8b67', 'maj':'#6aa8cb'}\n",
    "\n",
    "PLOTS = 'results/plots/' # Folder to store plots\n",
    "plot_setup(latex=True)   # Latex environment\n",
    "node_size = 70           # size of nodes (viz)\n",
    "arrow_size = 6           # size of edge arrow (viz)\n",
    "edge_width = 0.5         # thickness of edges\n",
    "lw = 1.0                 # line-width (ranking) (viz)\n",
    "nww = 0.21\n",
    "nwh = 0.21\n",
    "edgecolor = '#c8cacc'"
   ]
  },
  {
   "cell_type": "code",
   "execution_count": 6,
   "metadata": {},
   "outputs": [],
   "source": [
    "N = 20\n",
    "fm = 0.2\n",
    "d = 0.2\n",
    "metric = 'pagerank'\n",
    "ncores = 40\n",
    "seed = 377"
   ]
  },
  {
   "cell_type": "markdown",
   "metadata": {},
   "source": [
    "## Generating Networks and Measuring Inequalities"
   ]
  },
  {
   "cell_type": "markdown",
   "metadata": {},
   "source": [
    "### Heterophilic"
   ]
  },
  {
   "cell_type": "code",
   "execution_count": 7,
   "metadata": {},
   "outputs": [
    {
     "name": "stdout",
     "output_type": "stream",
     "text": [
      "2021-02-12 01:45:14\tcot_per_node...\n",
      "2021-02-12 01:45:15\tcot...\n",
      "2021-02-12 01:45:15\twtf...\n"
     ]
    }
   ],
   "source": [
    "G_hete = DPAH(N=N, fm=fm, d=d, plo_M=2., plo_m=2., h_MM=0.2, h_mm=0.2, verbose=False, seed=seed) #7\n",
    "\n",
    "# nodes metadata\n",
    "df_metadata_hete = graph.get_node_metadata_as_dataframe(G_hete, ncores)\n",
    "\n",
    "# individual and group inequalities\n",
    "rank_hete, gt_hete = _gini_function_matrix_rank(df_metadata_hete, metric)\n",
    "rank_hete, fmt_hete, minority_fraction_hete = _fm_function_matrix_rank(df_metadata_hete, metric)\n",
    "\n",
    "# gini and me values\n",
    "g_hete = utils.gini(df_metadata_hete[metric].astype(np.float).values)     # global vertical ineq.\n",
    "me_hete = utils.mean_error([minority_fraction_hete] * len(fmt_hete), fmt_hete)  # global horizontal ineq. using me"
   ]
  },
  {
   "cell_type": "markdown",
   "metadata": {},
   "source": [
    "### Hete/Homo"
   ]
  },
  {
   "cell_type": "code",
   "execution_count": 8,
   "metadata": {},
   "outputs": [
    {
     "name": "stdout",
     "output_type": "stream",
     "text": [
      "2021-02-12 01:45:16\tcot_per_node...\n",
      "2021-02-12 01:45:17\tcot...\n",
      "2021-02-12 01:45:17\twtf...\n"
     ]
    }
   ],
   "source": [
    "G_heho = DPAH(N=N, fm=fm, d=d, plo_M=2., plo_m=2., h_MM=0.2, h_mm=0.8, verbose=False, seed=seed) #17\n",
    "\n",
    "# nodes metadata\n",
    "df_metadata_heho = graph.get_node_metadata_as_dataframe(G_heho, ncores)\n",
    "\n",
    "# individual and group inequalities\n",
    "rank_heho, gt_heho = _gini_function_matrix_rank(df_metadata_heho, metric)\n",
    "rank_heho, fmt_heho, minority_fraction_heho = _fm_function_matrix_rank(df_metadata_heho, metric)\n",
    "\n",
    "# gini and me values\n",
    "g_heho = utils.gini(df_metadata_heho[metric].astype(np.float).values)     # global vertical ineq.\n",
    "me_heho = utils.mean_error([minority_fraction_heho] * len(fmt_heho), fmt_heho)  # global horizontal ineq. using me"
   ]
  },
  {
   "cell_type": "markdown",
   "metadata": {},
   "source": [
    "### Neutral"
   ]
  },
  {
   "cell_type": "code",
   "execution_count": 9,
   "metadata": {},
   "outputs": [
    {
     "name": "stdout",
     "output_type": "stream",
     "text": [
      "2021-02-12 01:45:18\tcot_per_node...\n",
      "2021-02-12 01:45:19\tcot...\n",
      "2021-02-12 01:45:19\twtf...\n"
     ]
    }
   ],
   "source": [
    "G_neu = DPAH(N=N, fm=fm, d=d, plo_M=2., plo_m=2., h_MM=0.5, h_mm=0.5, verbose=False, seed=seed) #10\n",
    "\n",
    "# nodes metadata\n",
    "df_metadata_neu = graph.get_node_metadata_as_dataframe(G_neu, ncores)\n",
    "\n",
    "# individual and group inequalities\n",
    "rank_neu, gt_neu = _gini_function_matrix_rank(df_metadata_neu, metric)\n",
    "rank_neu, fmt_neu, minority_fraction_neu = _fm_function_matrix_rank(df_metadata_neu, metric)\n",
    "\n",
    "# gini and me values\n",
    "g_neu = utils.gini(df_metadata_neu[metric].astype(np.float).values)     # global vertical ineq.\n",
    "me_neu = utils.mean_error([minority_fraction_neu] * len(fmt_neu), fmt_neu)  # global horizontal ineq. using me"
   ]
  },
  {
   "cell_type": "markdown",
   "metadata": {},
   "source": [
    "### Homophilic"
   ]
  },
  {
   "cell_type": "code",
   "execution_count": 10,
   "metadata": {},
   "outputs": [
    {
     "name": "stdout",
     "output_type": "stream",
     "text": [
      "2021-02-12 01:45:20\tcot_per_node...\n",
      "2021-02-12 01:45:20\tcot...\n",
      "2021-02-12 01:45:20\twtf...\n"
     ]
    }
   ],
   "source": [
    "G_homo = DPAH(N=N, fm=fm, d=d, plo_M=2., plo_m=2., h_MM=0.8, h_mm=0.8, verbose=False, seed=seed) #20\n",
    "\n",
    "# nodes metadata\n",
    "df_metadata_homo = graph.get_node_metadata_as_dataframe(G_homo, ncores)\n",
    "\n",
    "# individual and group inequalities\n",
    "rank_homo, gt_homo = _gini_function_matrix_rank(df_metadata_homo, metric)\n",
    "rank_homo, fmt_homo, minority_fraction_homo = _fm_function_matrix_rank(df_metadata_homo, metric)\n",
    "\n",
    "# gini and me values\n",
    "g_homo = utils.gini(df_metadata_homo[metric].astype(np.float).values)     # global vertical ineq.\n",
    "me_homo = utils.mean_error([minority_fraction_homo] * len(fmt_homo), fmt_homo)  # global horizontal ineq. using me"
   ]
  },
  {
   "cell_type": "markdown",
   "metadata": {},
   "source": [
    "### Homo/Hete"
   ]
  },
  {
   "cell_type": "code",
   "execution_count": 11,
   "metadata": {},
   "outputs": [
    {
     "name": "stdout",
     "output_type": "stream",
     "text": [
      "2021-02-12 01:45:21\tcot_per_node...\n",
      "2021-02-12 01:45:22\tcot...\n",
      "2021-02-12 01:45:22\twtf...\n"
     ]
    }
   ],
   "source": [
    "G_hohe = DPAH(N=N, fm=fm, d=d, plo_M=2., plo_m=2., h_MM=0.8, h_mm=0.2, verbose=False, seed=seed) #6\n",
    "\n",
    "# nodes metadata\n",
    "df_metadata_hohe = graph.get_node_metadata_as_dataframe(G_hohe, ncores)\n",
    "\n",
    "# individual and group inequalities\n",
    "rank_hohe, gt_hohe = _gini_function_matrix_rank(df_metadata_hohe, metric)\n",
    "rank_hohe, fmt_hohe, minority_fraction_hohe = _fm_function_matrix_rank(df_metadata_hohe, metric)\n",
    "\n",
    "# gini and me values\n",
    "g_hohe = utils.gini(df_metadata_hohe[metric].astype(np.float).values)     # global vertical ineq.\n",
    "me_hohe = utils.mean_error([minority_fraction_hohe] * len(fmt_hohe), fmt_hohe)  # global horizontal ineq. using me"
   ]
  },
  {
   "cell_type": "markdown",
   "metadata": {},
   "source": [
    "## Figure 1"
   ]
  },
  {
   "cell_type": "code",
   "execution_count": 12,
   "metadata": {},
   "outputs": [
    {
     "name": "stdout",
     "output_type": "stream",
     "text": [
      "results/plots/example_2.pdf saved!\n"
     ]
    },
    {
     "data": {
      "image/png": "[encoded data removed]",
      "text/plain": [
       "<Figure size 880x600 with 20 Axes>"
      ]
     },
     "metadata": {},
     "output_type": "display_data"
    }
   ],
   "source": [
    "def get_sorted_nodes(df):\n",
    "    if df.shape[0] == 10:\n",
    "        labels = ['a','b','c','d','e','f','g','h','i','j']\n",
    "    else:\n",
    "        labels = [str(row.node) for id,row in df.iterrows()]\n",
    "    tmp = df[['node','minority','pagerank']].copy()\n",
    "    tmp = tmp.sort_values(\"node\", ascending=True)\n",
    "    tmp.loc[:,'name'] = labels\n",
    "    tmp = tmp.sort_values(\"pagerank\", ascending=False)\n",
    "    return tmp.reset_index(drop=True)\n",
    "\n",
    "def draw_rank(sorted_df, ax):\n",
    "    for i,row in sorted_df.iterrows():\n",
    "        ax.barh(2, 1, left=i, height=1, color='white')\n",
    "        ax.barh(1, 1, left=i, height=1, color=colors['min' if row.minority==1 else 'maj'])\n",
    "        ax.barh(0, 1, left=i, height=1, color='white')\n",
    "        ax.text(0.1,0,'+' if i==0 else '')\n",
    "        ax.text(9.5,0,'-' if i==0 else '')\n",
    "        #ax.text(-1,0,'Ranked nodes', rotation=90, va='center')\n",
    "    ax.axis('off')\n",
    "    \n",
    "ginis = [g_hete, g_heho, g_neu, g_hohe, g_homo]\n",
    "mes = [me_hete, me_heho, me_neu, me_hohe, me_homo]\n",
    "\n",
    "w=2.2\n",
    "h=1.2\n",
    "r=4\n",
    "c=5\n",
    "fig, axes = plt.subplots(r,c,figsize=(r*w, c*h),sharex=False, sharey=False)\n",
    "\n",
    "# graph hete\n",
    "#pos = nx.circular_layout(G_hete)\n",
    "pos = nx.nx_pydot.graphviz_layout(G_hete, prog='neato')\n",
    "node_color = [colors['min'] if obj['m'] else colors['maj'] for n,obj in G_hete.nodes(data=True)]\n",
    "nx.draw_networkx_nodes(G_hete, pos, cmap=plt.get_cmap('jet'), node_color=node_color, node_size=node_size, ax=axes[0,0])\n",
    "edge_color = [edgecolor for e in G_hete.edges()]\n",
    "nx.draw_networkx_edges(G_hete, pos, edgelist=G_hete.edges(), edge_color=edgecolor, width=edge_width, arrows=True, arrowsize=arrow_size, ax=axes[0,0])\n",
    "axes[0,0].axis('off')\n",
    "\n",
    "# graph heho\n",
    "#pos = nx.circular_layout(G_heho)\n",
    "pos = nx.nx_pydot.graphviz_layout(G_heho, prog='neato')\n",
    "node_color = [colors['min'] if obj['m'] else colors['maj'] for n,obj in G_heho.nodes(data=True)]\n",
    "nx.draw_networkx_nodes(G_heho, pos, cmap=plt.get_cmap('jet'), node_color=node_color, node_size=node_size, ax=axes[0,1])\n",
    "edge_color = [edgecolor for e in G_heho.edges()]\n",
    "nx.draw_networkx_edges(G_heho, pos, edgelist=G_heho.edges(), edge_color=edgecolor, width=edge_width, arrows=True, arrowsize=arrow_size, ax=axes[0,1])\n",
    "axes[0,1].axis('off')\n",
    "\n",
    "# graph neu\n",
    "#pos = nx.circular_layout(G_neu)\n",
    "pos = nx.nx_pydot.graphviz_layout(G_neu, prog='neato')\n",
    "node_color = [colors['min'] if obj['m'] else colors['maj'] for n,obj in G_neu.nodes(data=True)]\n",
    "nx.draw_networkx_nodes(G_neu, pos, cmap=plt.get_cmap('jet'), node_color=node_color, node_size=node_size, ax=axes[0,2])\n",
    "edge_color = [edgecolor for e in G_neu.edges()]\n",
    "nx.draw_networkx_edges(G_neu, pos, edgelist=G_neu.edges(), edge_color=edgecolor, width=edge_width, arrows=True, arrowsize=arrow_size, ax=axes[0,2])\n",
    "axes[0,2].axis('off')\n",
    "\n",
    "# graph hohe\n",
    "#pos = nx.circular_layout(G_hohe)\n",
    "pos = nx.nx_pydot.graphviz_layout(G_hohe, prog='neato')\n",
    "node_color = [colors['min'] if obj['m'] else colors['maj'] for n,obj in G_hohe.nodes(data=True)]\n",
    "nx.draw_networkx_nodes(G_hohe, pos, cmap=plt.get_cmap('jet'), node_color=node_color, node_size=node_size, ax=axes[0,3])\n",
    "edge_color = [edgecolor for e in G_hohe.edges()]\n",
    "nx.draw_networkx_edges(G_hohe, pos, edgelist=G_hohe.edges(), edge_color=edgecolor, width=edge_width, arrows=True, arrowsize=arrow_size, ax=axes[0,3])\n",
    "axes[0,3].axis('off')\n",
    "\n",
    "# graph homo\n",
    "#pos = nx.circular_layout(G_homo)\n",
    "pos = nx.nx_pydot.graphviz_layout(G_homo, prog='neato')\n",
    "node_color = [colors['min'] if obj['m'] else colors['maj'] for n,obj in G_homo.nodes(data=True)]\n",
    "nx.draw_networkx_nodes(G_homo, pos, cmap=plt.get_cmap('jet'), node_color=node_color, node_size=node_size, ax=axes[0,4])\n",
    "edge_color = [edgecolor for e in G_homo.edges()]\n",
    "nx.draw_networkx_edges(G_homo, pos, edgelist=G_homo.edges(), edge_color=edgecolor, width=edge_width, arrows=True, arrowsize=arrow_size, ax=axes[0,4])\n",
    "axes[0,4].axis('off')\n",
    "axes[0,0].set_ylabel(\"Graph\")\n",
    "\n",
    "# ranking\n",
    "draw_rank(get_sorted_nodes(df_metadata_hete), axes[1,0])\n",
    "draw_rank(get_sorted_nodes(df_metadata_heho), axes[1,1])\n",
    "draw_rank(get_sorted_nodes(df_metadata_neu),  axes[1,2])\n",
    "draw_rank(get_sorted_nodes(df_metadata_hohe), axes[1,3])\n",
    "draw_rank(get_sorted_nodes(df_metadata_homo), axes[1,4])\n",
    "\n",
    "\n",
    "# Inequality (individual inequality)\n",
    "axes[2,0].plot(rank_hete, gt_hete, 'black', linewidth=lw)\n",
    "axes[2,1].plot(rank_heho, gt_heho, 'black', linewidth=lw)\n",
    "axes[2,2].plot(rank_neu, gt_neu, 'black', linewidth=lw)\n",
    "axes[2,3].plot(rank_hohe, gt_hohe, 'black', linewidth=lw)\n",
    "axes[2,4].plot(rank_homo, gt_homo, 'black', linewidth=lw)\n",
    "axes[2,0].set_ylabel(\"Gini\\nin top-k\\%\")\n",
    "\n",
    "# Inequity (group inequality)\n",
    "axes[3,0].plot(rank_hete, fmt_hete, colors['min'], linewidth=lw)\n",
    "axes[3,1].plot(rank_heho, fmt_heho, colors['min'], linewidth=lw)\n",
    "axes[3,2].plot(rank_neu, fmt_neu, colors['min'], linewidth=lw)\n",
    "axes[3,3].plot(rank_hohe, fmt_hohe, colors['min'], linewidth=lw)\n",
    "axes[3,4].plot(rank_homo, fmt_homo, colors['min'], linewidth=lw)\n",
    "axes[3,0].set_ylabel(\"\\% of minorities\\nin top-k\\%\")\n",
    "\n",
    "# Labels\n",
    "for i in np.arange(0,c):\n",
    "    axes[3,i].axhline(fm, c='grey', ls='--', lw=1.0)\n",
    "    axes[2,i].set_xticks([])\n",
    "    axes[2,i].set_xlabel('')\n",
    "        \n",
    "    #axes[2,i].axhline(ginis[i], c='grey', ls='--', lw=1.0)\n",
    "    axes[2,i].text(35, 0.9, \"Gini$_{}={}$\".format('{all}',round(ginis[i],2)))\n",
    "    axes[3,i].text(55, 0.9, \"ME: {}\".format(round(mes[i],2)))\n",
    "    \n",
    "    axes[2,i].set_ylim((-0.1,1.1))\n",
    "    axes[3,i].set_ylim((-0.1,1.1))\n",
    "    axes[2,i].set_xlim((10,100))\n",
    "    axes[3,i].set_xlim((10,100))\n",
    "\n",
    "    axes[3,i].set_xticks(rank_homo[::2])\n",
    "    \n",
    "    if i>0:\n",
    "        axes[2,i].set_yticks([])\n",
    "        axes[2,i].set_xticks([])\n",
    "        axes[3,i].set_yticks([])\n",
    "    \n",
    "    if c%2 != 0:\n",
    "        axes[3,i].set_xlabel('' if (i!=int(c/2)) else \"Top-k\\% PageRank\")\n",
    "        \n",
    "### Titles\n",
    "axes[0,0].set_title(\"(a)\\nHeterophilic\\n$h_{MM}=0.2$\\n$h_{mm}=0.2$\")\n",
    "axes[0,1].set_title(\"(b)\\nHete/Homo\\n$h_{MM}=0.2$\\n$h_{mm}=0.8$\")\n",
    "axes[0,2].set_title(\"(c)\\nNeutral\\n$h_{MM}=0.5$\\n$h_{mm}=0.5$\")\n",
    "axes[0,3].set_title(\"(d)\\nHomo/Hete\\n$h_{MM}=0.8$\\n$h_{mm}=0.2$\")\n",
    "axes[0,4].set_title(\"(e)\\nHomophilic\\n$h_{MM}=0.8$\\n$h_{mm}=0.8$\")\n",
    "\n",
    "### y-label (row 0 graphs), (row 1 ranked nodes)\n",
    "for i in [0,1]:\n",
    "    axes[i,0].axis('on')\n",
    "    axes[i,0].spines['top'].set_visible(False)\n",
    "    axes[i,0].spines['right'].set_visible(False)\n",
    "    axes[i,0].spines['bottom'].set_visible(False)\n",
    "    axes[i,0].spines['left'].set_visible(False)\n",
    "    axes[i,0].set_yticks([])\n",
    "    axes[i,0].set_xticks([])\n",
    "axes[0,0].set_ylabel(\"Graph\\nvizualization\", labelpad=25)\n",
    "axes[1,0].set_ylabel(\"Ranked nodes\\n(PageRank)\", labelpad=25)\n",
    "\n",
    "### border color\n",
    "for ax in axes.flatten():\n",
    "    ax.tick_params(color='grey', labelcolor='grey')\n",
    "    for spine in ax.spines.values():\n",
    "        spine.set_edgecolor('grey')\n",
    "        \n",
    "### Save fig        \n",
    "plt.subplots_adjust(hspace=0.05, wspace=0.1)\n",
    "fn = os.path.join(PLOTS,'example_2.pdf')\n",
    "if fn is not None:\n",
    "    plt.savefig(fn, bbox_inches='tight')\n",
    "    print(\"{} saved!\".format(fn))\n",
    "    \n",
    "plt.show()\n",
    "plt.close()"
   ]
  },
  {
   "cell_type": "markdown",
   "metadata": {},
   "source": [
    "## Figure 2"
   ]
  },
  {
   "cell_type": "code",
   "execution_count": 13,
   "metadata": {},
   "outputs": [
    {
     "name": "stdout",
     "output_type": "stream",
     "text": [
      "2021-02-12 01:46:04\tcot_per_node...\n",
      "2021-02-12 01:46:05\tcot...\n",
      "2021-02-12 01:46:05\twtf...\n"
     ]
    },
    {
     "data": {
      "image/png": "[encoded data removed]",
      "text/plain": [
       "<Figure size 350x150 with 2 Axes>"
      ]
     },
     "metadata": {},
     "output_type": "display_data"
    }
   ],
   "source": [
    "import pandas as pd\n",
    "import networkx as nx\n",
    "\n",
    "metric = 'pagerank'\n",
    "\n",
    "G_toy = nx.DiGraph()\n",
    "G_toy.add_edge(\"i\", \"j\")\n",
    "G_toy.add_edge(\"k\", \"l\")\n",
    "G_toy.add_edge(\"m\", \"j\")\n",
    "G_toy.add_edge(\"n\", \"k\")\n",
    "G_toy.add_edge(\"n\", \"o\")\n",
    "G_toy.add_edge(\"o\", \"j\")\n",
    "G_toy.add_edge(\"p\", \"j\")\n",
    "G_toy.add_edge(\"l\", \"j\")\n",
    "G_toy.add_edge(\"l\", \"o\")\n",
    "\n",
    "G_toy.graph['label'] = 'm'\n",
    "nx.set_node_attributes(G_toy, name='m', values={n:n in ['p','o']for n in G_toy.nodes()})\n",
    "ncores = 40\n",
    "\n",
    "# # nodes metadata\n",
    "df_metadata_toy = graph.get_node_metadata_as_dataframe(G_toy, ncores)\n",
    "\n",
    "# # individual and group inequalities\n",
    "rank_toy, gt_toy = _gini_function_matrix_rank(df_metadata_toy, metric)\n",
    "rank_tiy, fmt_toy, minority_fraction_toy = _fm_function_matrix_rank(df_metadata_toy, metric)\n",
    "\n",
    "# # gini and me values\n",
    "g_toy = utils.gini(df_metadata_toy[metric].astype(np.float).values)     # global vertical ineq.\n",
    "me_toy = utils.mean_error([minority_fraction_toy] * len(fmt_toy), fmt_toy)  # global horizontal ineq. using me\n",
    "\n",
    "### PLOT\n",
    "plt.close()\n",
    "fig, axes = plt.subplots(1,2,figsize=(3.5,1.5))\n",
    "\n",
    "# # gini (left)\n",
    "axes[0].plot(rank_toy, gt_toy, 'black', linewidth=lw)\n",
    "axes[0].set_title(\"Gini\")\n",
    "axes[0].text(s='{}'.format(round(g_toy,2)), x=20, y=0.25)\n",
    "\n",
    "# # fraction of min (right)\n",
    "axes[1].plot(rank_toy, fmt_toy, colors['min'], linewidth=lw)\n",
    "axes[1].set_title(\"Fraction of minorities\")\n",
    "axes[1].axhline(0.25, ls='--', c='grey')\n",
    "axes[1].text(s='{}'.format(round(me_toy,2)), x=20, y=0.15)\n",
    "\n",
    "plt.show()\n",
    "plt.close()"
   ]
  },
  {
   "cell_type": "code",
   "execution_count": 14,
   "metadata": {},
   "outputs": [
    {
     "data": {
      "text/html": [
       "<div>\n",
       "<style scoped>\n",
       "    .dataframe tbody tr th:only-of-type {\n",
       "        vertical-align: middle;\n",
       "    }\n",
       "\n",
       "    .dataframe tbody tr th {\n",
       "        vertical-align: top;\n",
       "    }\n",
       "\n",
       "    .dataframe thead th {\n",
       "        text-align: right;\n",
       "    }\n",
       "</style>\n",
       "<table border=\"1\" class=\"dataframe\">\n",
       "  <thead>\n",
       "    <tr style=\"text-align: right;\">\n",
       "      <th></th>\n",
       "      <th>fm</th>\n",
       "      <th>gini</th>\n",
       "      <th>rank</th>\n",
       "    </tr>\n",
       "  </thead>\n",
       "  <tbody>\n",
       "    <tr>\n",
       "      <th>0</th>\n",
       "      <td>0.000000</td>\n",
       "      <td>0.000000</td>\n",
       "      <td>20.0</td>\n",
       "    </tr>\n",
       "    <tr>\n",
       "      <th>1</th>\n",
       "      <td>0.500000</td>\n",
       "      <td>0.233234</td>\n",
       "      <td>30.0</td>\n",
       "    </tr>\n",
       "    <tr>\n",
       "      <th>2</th>\n",
       "      <td>0.500000</td>\n",
       "      <td>0.233234</td>\n",
       "      <td>40.0</td>\n",
       "    </tr>\n",
       "    <tr>\n",
       "      <th>3</th>\n",
       "      <td>0.500000</td>\n",
       "      <td>0.233234</td>\n",
       "      <td>50.0</td>\n",
       "    </tr>\n",
       "    <tr>\n",
       "      <th>4</th>\n",
       "      <td>0.333333</td>\n",
       "      <td>0.258134</td>\n",
       "      <td>60.0</td>\n",
       "    </tr>\n",
       "    <tr>\n",
       "      <th>5</th>\n",
       "      <td>0.250000</td>\n",
       "      <td>0.307540</td>\n",
       "      <td>70.0</td>\n",
       "    </tr>\n",
       "    <tr>\n",
       "      <th>6</th>\n",
       "      <td>0.250000</td>\n",
       "      <td>0.307540</td>\n",
       "      <td>80.0</td>\n",
       "    </tr>\n",
       "    <tr>\n",
       "      <th>7</th>\n",
       "      <td>0.250000</td>\n",
       "      <td>0.307540</td>\n",
       "      <td>90.0</td>\n",
       "    </tr>\n",
       "    <tr>\n",
       "      <th>8</th>\n",
       "      <td>0.250000</td>\n",
       "      <td>0.374083</td>\n",
       "      <td>100.0</td>\n",
       "    </tr>\n",
       "  </tbody>\n",
       "</table>\n",
       "</div>"
      ],
      "text/plain": [
       "         fm      gini   rank\n",
       "0  0.000000  0.000000   20.0\n",
       "1  0.500000  0.233234   30.0\n",
       "2  0.500000  0.233234   40.0\n",
       "3  0.500000  0.233234   50.0\n",
       "4  0.333333  0.258134   60.0\n",
       "5  0.250000  0.307540   70.0\n",
       "6  0.250000  0.307540   80.0\n",
       "7  0.250000  0.307540   90.0\n",
       "8  0.250000  0.374083  100.0"
      ]
     },
     "execution_count": 14,
     "metadata": {},
     "output_type": "execute_result"
    }
   ],
   "source": [
    "### viz as dataframe\n",
    "df_toy = pd.DataFrame({'rank':rank_toy, 'gini':gt_toy, 'fm':fmt_toy})\n",
    "df_toy"
   ]
  },
  {
   "cell_type": "code",
   "execution_count": 15,
   "metadata": {},
   "outputs": [
    {
     "name": "stdout",
     "output_type": "stream",
     "text": [
      "top-  k%\tgini\tme\tnodes\n",
      "top- 20%\t0.00\t0.00\t['j']\n",
      "top- 30%\t0.23\t0.50\t['j']\n",
      "top- 40%\t0.23\t0.50\t['j' 'o']\n",
      "top- 50%\t0.23\t0.50\t['j' 'o']\n",
      "top- 60%\t0.26\t0.33\t['j' 'o' 'l']\n",
      "top- 70%\t0.31\t0.25\t['j' 'o' 'l']\n",
      "top- 80%\t0.31\t0.25\t['j' 'o' 'l' 'k']\n",
      "top- 90%\t0.31\t0.25\t['j' 'o' 'l' 'k']\n",
      "top-100%\t0.37\t0.25\t['j' 'o' 'l' 'k' 'n' 'p' 'm' 'i']\n",
      "global gini 0.3740826257888387\n",
      "global mean error 0.06481481481481481\n"
     ]
    }
   ],
   "source": [
    "### top-k% rank\n",
    "print(\"top-  k%\\tgini\\tme\\tnodes\")\n",
    "for k in np.arange(20,110,10):\n",
    "    tmp1 = df_metadata_toy.pagerank.sort_values(ascending=False).unique()\n",
    "    topk = tmp1[:int(k*tmp1.size/100)]\n",
    "    tmp1 = df_metadata_toy.query(\"pagerank in @topk\").sort_values('pagerank', ascending=False).node.values\n",
    "    tmp2 = df_toy.query(\"rank==@k\")\n",
    "    print(\"top-{:3d}%\\t{:.2f}\\t{:.2f}\\t{}\".format(k, tmp2.gini.values[0],tmp2.fm.values[0], tmp1))\n",
    "\n",
    "print(\"global gini {}\".format(g_toy))\n",
    "print(\"global mean error {}\".format(me_toy))"
   ]
  },
  {
   "cell_type": "code",
   "execution_count": 16,
   "metadata": {},
   "outputs": [
    {
     "data": {
      "text/html": [
       "<div>\n",
       "<style scoped>\n",
       "    .dataframe tbody tr th:only-of-type {\n",
       "        vertical-align: middle;\n",
       "    }\n",
       "\n",
       "    .dataframe tbody tr th {\n",
       "        vertical-align: top;\n",
       "    }\n",
       "\n",
       "    .dataframe thead th {\n",
       "        text-align: right;\n",
       "    }\n",
       "</style>\n",
       "<table border=\"1\" class=\"dataframe\">\n",
       "  <thead>\n",
       "    <tr style=\"text-align: right;\">\n",
       "      <th></th>\n",
       "      <th>node</th>\n",
       "      <th>minority</th>\n",
       "      <th>indegree</th>\n",
       "      <th>outdegree</th>\n",
       "      <th>pagerank</th>\n",
       "      <th>wtf</th>\n",
       "    </tr>\n",
       "  </thead>\n",
       "  <tbody>\n",
       "    <tr>\n",
       "      <th>3</th>\n",
       "      <td>j</td>\n",
       "      <td>False</td>\n",
       "      <td>5</td>\n",
       "      <td>0</td>\n",
       "      <td>0.393909</td>\n",
       "      <td>0</td>\n",
       "    </tr>\n",
       "    <tr>\n",
       "      <th>5</th>\n",
       "      <td>o</td>\n",
       "      <td>True</td>\n",
       "      <td>2</td>\n",
       "      <td>1</td>\n",
       "      <td>0.143312</td>\n",
       "      <td>0</td>\n",
       "    </tr>\n",
       "    <tr>\n",
       "      <th>0</th>\n",
       "      <td>l</td>\n",
       "      <td>False</td>\n",
       "      <td>1</td>\n",
       "      <td>2</td>\n",
       "      <td>0.134008</td>\n",
       "      <td>0</td>\n",
       "    </tr>\n",
       "    <tr>\n",
       "      <th>7</th>\n",
       "      <td>k</td>\n",
       "      <td>False</td>\n",
       "      <td>1</td>\n",
       "      <td>1</td>\n",
       "      <td>0.086359</td>\n",
       "      <td>0</td>\n",
       "    </tr>\n",
       "    <tr>\n",
       "      <th>1</th>\n",
       "      <td>n</td>\n",
       "      <td>False</td>\n",
       "      <td>0</td>\n",
       "      <td>2</td>\n",
       "      <td>0.060603</td>\n",
       "      <td>0</td>\n",
       "    </tr>\n",
       "    <tr>\n",
       "      <th>2</th>\n",
       "      <td>p</td>\n",
       "      <td>True</td>\n",
       "      <td>0</td>\n",
       "      <td>1</td>\n",
       "      <td>0.060603</td>\n",
       "      <td>0</td>\n",
       "    </tr>\n",
       "    <tr>\n",
       "      <th>4</th>\n",
       "      <td>m</td>\n",
       "      <td>False</td>\n",
       "      <td>0</td>\n",
       "      <td>1</td>\n",
       "      <td>0.060603</td>\n",
       "      <td>0</td>\n",
       "    </tr>\n",
       "    <tr>\n",
       "      <th>6</th>\n",
       "      <td>i</td>\n",
       "      <td>False</td>\n",
       "      <td>0</td>\n",
       "      <td>1</td>\n",
       "      <td>0.060603</td>\n",
       "      <td>0</td>\n",
       "    </tr>\n",
       "  </tbody>\n",
       "</table>\n",
       "</div>"
      ],
      "text/plain": [
       "  node  minority  indegree  outdegree  pagerank  wtf\n",
       "3    j     False         5          0  0.393909    0\n",
       "5    o      True         2          1  0.143312    0\n",
       "0    l     False         1          2  0.134008    0\n",
       "7    k     False         1          1  0.086359    0\n",
       "1    n     False         0          2  0.060603    0\n",
       "2    p      True         0          1  0.060603    0\n",
       "4    m     False         0          1  0.060603    0\n",
       "6    i     False         0          1  0.060603    0"
      ]
     },
     "execution_count": 16,
     "metadata": {},
     "output_type": "execute_result"
    }
   ],
   "source": [
    "### original metadata per node\n",
    "df_metadata_toy.sort_values('pagerank', ascending=False)"
   ]
  },
  {
   "cell_type": "code",
   "execution_count": null,
   "metadata": {},
   "outputs": [],
   "source": []
  }
 ],
 "metadata": {
  "kernelspec": {
   "display_name": "Python 3",
   "language": "python",
   "name": "python3"
  },
  "language_info": {
   "codemirror_mode": {
    "name": "ipython",
    "version": 3
   },
   "file_extension": ".py",
   "mimetype": "text/x-python",
   "name": "python",
   "nbconvert_exporter": "python",
   "pygments_lexer": "ipython3",
   "version": "3.5.6"
  }
 },
 "nbformat": 4,
 "nbformat_minor": 2
}
